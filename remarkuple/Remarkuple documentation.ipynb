{
 "metadata": {
  "name": ""
 },
 "nbformat": 3,
 "nbformat_minor": 0,
 "worksheets": [
  {
   "cells": [
    {
     "cell_type": "markdown",
     "metadata": {},
     "source": [
      "# Remarkuple - XML/HTML tag generator/factory documentation\n",
      "\n",
      "## Design notes\n",
      "\n",
      "Purpose is to create a simple html generator for Python. Few other generators have been available since decade but they all seems to have small caveats. However combining features I've managed to create a library that fits better to my own projects.\n",
      "\n",
      "Problems:\n",
      "\n",
      "1. Some libraries use awkward CAPITAL letters, convention derived from early age of internet. I prefer small letters on tag and attribute names as specified on xhtml standard.\n",
      "2. Reserved words in Python language limits using some tag and tag attribute names. This has been tackled by allowing usage of CAPITAL letters on helper interface, but on the background letters are forced to lowercase. This however can be passed by using tag.setName and tag.setAttribute -methods. In this manner you can set any [html standard](http://www.w3.org/TR/2000/REC-xml-20001006#NT-Name) tag and attribute name on the document like `<my-tag dc:attr=\"\" />`\n",
      "3. I don't want to limit tags to html4 tag names only, but allow practically any tag name. See above.\n",
      "4. Sometimes content is transformed to html entities, which should not occur until very end of the business logic.\n",
      "\n",
      "Other requirements:\n",
      "\n",
      "As simple implementation as possible, no need for complicated page generation methods, just basic functionality. Extending tags for structures like table, lists and svg graphics. Nesting tags and giving attribute names should be clean and intuitive. Pythonic."
     ]
    },
    {
     "cell_type": "heading",
     "level": 2,
     "metadata": {},
     "source": [
      "Base class"
     ]
    },
    {
     "cell_type": "code",
     "collapsed": false,
     "input": [
      "class TAG(object):\n",
      "    def __init__(self, *args, **kw):\n",
      "        pass\n",
      "    def getAttribute(self, key):\n",
      "        pass\n",
      "    def setAttribute(self, key, value):\n",
      "        pass\n",
      "    def addContent(self, item):\n",
      "        pass"
     ],
     "language": "python",
     "metadata": {},
     "outputs": [],
     "prompt_number": 1
    },
    {
     "cell_type": "heading",
     "level": 2,
     "metadata": {},
     "source": [
      "Helper"
     ]
    },
    {
     "cell_type": "code",
     "collapsed": false,
     "input": [
      "class htmlHelper(object):\n",
      "    def create(self, name):\n",
      "        pass\n",
      "    def __getattr__(self, tag):\n",
      "        pass"
     ],
     "language": "python",
     "metadata": {},
     "outputs": [],
     "prompt_number": 2
    },
    {
     "cell_type": "heading",
     "level": 2,
     "metadata": {},
     "source": [
      "Usage"
     ]
    },
    {
     "cell_type": "code",
     "collapsed": false,
     "input": [
      "from remarkuple import helper as h, concat"
     ],
     "language": "python",
     "metadata": {},
     "outputs": [],
     "prompt_number": 3
    },
    {
     "cell_type": "code",
     "collapsed": false,
     "input": [
      "# introducing the main flow of the nesting tags\n",
      "print h.html(h.head(h.title(\"Simple html document\")), h.body(\"Content\"))"
     ],
     "language": "python",
     "metadata": {},
     "outputs": [
      {
       "output_type": "stream",
       "stream": "stdout",
       "text": [
        "<html><head><title>Simple html document</title></head><body>Content</body></html>\n"
       ]
      }
     ],
     "prompt_number": 4
    },
    {
     "cell_type": "code",
     "collapsed": false,
     "input": [
      "# a tag without content will be output as a short tag form\n",
      "print h.br()"
     ],
     "language": "python",
     "metadata": {},
     "outputs": [
      {
       "output_type": "stream",
       "stream": "stdout",
       "text": [
        "<br/>\n"
       ]
      }
     ],
     "prompt_number": 5
    },
    {
     "cell_type": "code",
     "collapsed": false,
     "input": [
      "# if you pass empty string on tag content, closing tag will be generated\n",
      "print h.script('')"
     ],
     "language": "python",
     "metadata": {},
     "outputs": [
      {
       "output_type": "stream",
       "stream": "stdout",
       "text": [
        "<script></script>\n"
       ]
      }
     ],
     "prompt_number": 6
    },
    {
     "cell_type": "code",
     "collapsed": false,
     "input": [
      "# content can be a string, a numeric or other tag elements\n",
      "print h.h1(\"Header \", 1, h.span(\".1\"))"
     ],
     "language": "python",
     "metadata": {},
     "outputs": [
      {
       "output_type": "stream",
       "stream": "stdout",
       "text": [
        "<h1>Header 1<span>.1</span></h1>\n"
       ]
      }
     ],
     "prompt_number": 7
    },
    {
     "cell_type": "code",
     "collapsed": false,
     "input": [
      "# providing other content can yield unexpected results because all will be string normalized\n",
      "print h.div([0,1], {'k': h.b()})"
     ],
     "language": "python",
     "metadata": {},
     "outputs": [
      {
       "output_type": "stream",
       "stream": "stdout",
       "text": [
        "<div>[0, 1]{'k': <remarkuple.main.b object at 0x102fa6610>}</div>\n"
       ]
      }
     ],
     "prompt_number": 8
    },
    {
     "cell_type": "code",
     "collapsed": false,
     "input": [
      "# content can be callable\n",
      "print h.p(h.br)"
     ],
     "language": "python",
     "metadata": {},
     "outputs": [
      {
       "output_type": "stream",
       "stream": "stdout",
       "text": [
        "<p><br/></p>\n"
       ]
      }
     ],
     "prompt_number": 9
    },
    {
     "cell_type": "code",
     "collapsed": false,
     "input": [
      "# as said, content can be callable\n",
      "def ul():\n",
      "    return h.ul(h.li)\n",
      "print h.div(ul)"
     ],
     "language": "python",
     "metadata": {},
     "outputs": [
      {
       "output_type": "stream",
       "stream": "stdout",
       "text": [
        "<div><ul><li/></ul></div>\n"
       ]
      }
     ],
     "prompt_number": 10
    },
    {
     "cell_type": "code",
     "collapsed": false,
     "input": [
      "# adding more content inside the element\n",
      "# operator used here += is same as tag.addContent method\n",
      "h1 = h.h1('Header')\n",
      "h1 += \" 1.\"\n",
      "h1 += h.span(\"2\")\n",
      "print h1"
     ],
     "language": "python",
     "metadata": {},
     "outputs": [
      {
       "output_type": "stream",
       "stream": "stdout",
       "text": [
        "<h1>Header 1.<span>2</span></h1>\n"
       ]
      }
     ],
     "prompt_number": 11
    },
    {
     "cell_type": "code",
     "collapsed": false,
     "input": [
      "# concatenating elements\n",
      "h1 = h.h1()\n",
      "print concat(h1, h.h2(), h.h3)"
     ],
     "language": "python",
     "metadata": {},
     "outputs": [
      {
       "output_type": "stream",
       "stream": "stdout",
       "text": [
        "<h1/><h2/><h3/>\n"
       ]
      }
     ],
     "prompt_number": 12
    },
    {
     "cell_type": "code",
     "collapsed": false,
     "input": [
      "# chain arguments\n",
      "print h.h1(h.span(), h.span(), h.span())"
     ],
     "language": "python",
     "metadata": {},
     "outputs": [
      {
       "output_type": "stream",
       "stream": "stdout",
       "text": [
        "<h1><span/><span/><span/></h1>\n"
       ]
      }
     ],
     "prompt_number": 13
    },
    {
     "cell_type": "code",
     "collapsed": false,
     "input": [
      "# chain arguments by list\n",
      "print h.h1(*[h.span, h.span, h.span])"
     ],
     "language": "python",
     "metadata": {},
     "outputs": [
      {
       "output_type": "stream",
       "stream": "stdout",
       "text": [
        "<h1><span/><span/><span/></h1>\n"
       ]
      }
     ],
     "prompt_number": 14
    },
    {
     "cell_type": "code",
     "collapsed": false,
     "input": [
      "# add attributes\n",
      "print h.div(id=\"container\", title=\"Content container\")"
     ],
     "language": "python",
     "metadata": {},
     "outputs": [
      {
       "output_type": "stream",
       "stream": "stdout",
       "text": [
        "<div id=\"container\" title=\"Content container\"/>\n"
       ]
      }
     ],
     "prompt_number": 15
    },
    {
     "cell_type": "code",
     "collapsed": false,
     "input": [
      "# add attributes by dictionary\n",
      "print h.div(**{'id': \"container\", 'title':\"Content container\"})"
     ],
     "language": "python",
     "metadata": {},
     "outputs": [
      {
       "output_type": "stream",
       "stream": "stdout",
       "text": [
        "<div id=\"container\" title=\"Content container\"/>\n"
       ]
      }
     ],
     "prompt_number": 16
    },
    {
     "cell_type": "code",
     "collapsed": false,
     "input": [
      "# using python reserved words can be tackled with uppercase letters or capitalization\n",
      "# h.del or h.tag(class=\"\") doesn't work but gives parse error. instead use something like:\n",
      "print h.DEL(Class=\"reserved\")"
     ],
     "language": "python",
     "metadata": {},
     "outputs": [
      {
       "output_type": "stream",
       "stream": "stdout",
       "text": [
        "<del class=\"reserved\"/>\n"
       ]
      }
     ],
     "prompt_number": 17
    },
    {
     "cell_type": "code",
     "collapsed": false,
     "input": [
      "# but if you really want uppercase tag names or attributes, \n",
      "# you can use setName and setAttribute methods\n",
      "print h.create('DEL').setAttribute('Class', 'reserved')"
     ],
     "language": "python",
     "metadata": {},
     "outputs": [
      {
       "output_type": "stream",
       "stream": "stdout",
       "text": [
        "<DEL Class=\"reserved\"/>\n"
       ]
      }
     ],
     "prompt_number": 18
    },
    {
     "cell_type": "code",
     "collapsed": false,
     "input": [
      "# special attribute and tag names can be handled with setters.\n",
      "# h.my-tag(dc:name = \"special\") doesn't work because of naming convention rules on python\n",
      "# so you need to do:\n",
      "print h.create(\"my-tag\").addContent(\"content\").setAttribute('dc:name', 'special')"
     ],
     "language": "python",
     "metadata": {},
     "outputs": [
      {
       "output_type": "stream",
       "stream": "stdout",
       "text": [
        "<my-tag dc:name=\"special\">content</my-tag>\n"
       ]
      }
     ],
     "prompt_number": 19
    },
    {
     "cell_type": "heading",
     "level": 2,
     "metadata": {},
     "source": [
      "Table extension class"
     ]
    },
    {
     "cell_type": "code",
     "collapsed": false,
     "input": [
      "class table(type(h.table())):\n",
      "    def __init__(self, *args, **kw):\n",
      "        pass\n",
      "    \n",
      "    def addCaption(self, caption, **kw):\n",
      "        pass\n",
      "    \n",
      "    def addColGroup(self, *cols, **kw):\n",
      "        pass\n",
      "    \n",
      "    def addHeadRow(self, *trs, **kw):\n",
      "        pass\n",
      "    \n",
      "    def addFootRow(self, *trs, **kw):\n",
      "        pass\n",
      "    \n",
      "    def addBodyRow(self, *trs, **kw):\n",
      "        pass\n",
      "    \n",
      "    def addBodyRows(self, *trs, **kw):\n",
      "        pass"
     ],
     "language": "python",
     "metadata": {},
     "outputs": [],
     "prompt_number": 20
    },
    {
     "cell_type": "code",
     "collapsed": false,
     "input": [
      "# sure you can make tables with core table tags\n",
      "tbl = h.table(CLASS=\"data\")\n",
      "tbl += h.thead(h.tr(*map(h.th, [1,2,3])))\n",
      "tbl += h.tbody(*[h.tr(*map(h.td, [\"1.%s\"%i,\"2.%s\"%i,\"3.%s\"%i])) for i in [1,2,3]])\n",
      "\n",
      "print tbl\n",
      "tbl"
     ],
     "language": "python",
     "metadata": {},
     "outputs": [
      {
       "output_type": "stream",
       "stream": "stdout",
       "text": [
        "<table class=\"data\"><thead><tr><th>1</th><th>2</th><th>3</th></tr></thead><tbody><tr><td>1.1</td><td>2.1</td><td>3.1</td></tr><tr><td>1.2</td><td>2.2</td><td>3.2</td></tr><tr><td>1.3</td><td>2.3</td><td>3.3</td></tr></tbody></table>\n"
       ]
      },
      {
       "html": [
        "<table class=\"data\"><thead><tr><th>1</th><th>2</th><th>3</th></tr></thead><tbody><tr><td>1.1</td><td>2.1</td><td>3.1</td></tr><tr><td>1.2</td><td>2.2</td><td>3.2</td></tr><tr><td>1.3</td><td>2.3</td><td>3.3</td></tr></tbody></table>"
       ],
       "metadata": {},
       "output_type": "pyout",
       "prompt_number": 21,
       "text": [
        "<remarkuple.main.table at 0x102fb3fd0>"
       ]
      }
     ],
     "prompt_number": 21
    },
    {
     "cell_type": "code",
     "collapsed": false,
     "input": [
      "# but using special table factory function structuring table is easier\n",
      "from remarkuple import table\n",
      "\n",
      "# initialize table\n",
      "t = table(**{'id': 'data'})\n",
      "\n",
      "# add caption title\n",
      "t.addCaption('Caption')\n",
      "\n",
      "columns = [{'style': 'background-color: red'},\n",
      "           {'style': 'background-color: green'},\n",
      "           {'style': 'background-color: blue'}]\n",
      "\n",
      "# add column definitions\n",
      "t.addColGroup(*[h.col(**attr) for attr in columns])\n",
      "\n",
      "header = ['Column 1', 'Column 2', 'Column 3']\n",
      "\n",
      "# add header row with column titles\n",
      "t.addHeadRow(h.tr(*map(h.th, header)))\n",
      "\n",
      "# add body rows\n",
      "for i in range(1,3):\n",
      "    t.addBodyRow(h.tr(*map(h.td, [\"1.%s\"%i,\"2.%s\"%i,\"3.%s\"%i])))\n",
      "\n",
      "# add separate bodies with rows\n",
      "for i in range(3,5):\n",
      "    t.addBodyRows(h.tr(*map(h.td, [\"1.%s\"%i,\"2.%s\"%i,\"3.%s\"%i])), id='tbody%s'%i)\n",
      "\n",
      "# add footer row\n",
      "t.addFootRow(h.tr(h.td('footer', colspan=\"3\")))\n",
      "\n",
      "t"
     ],
     "language": "python",
     "metadata": {},
     "outputs": [
      {
       "html": [
        "<table id=\"data\"><caption>Caption</caption><colgroup><col style=\"background-color: red\"/><col style=\"background-color: green\"/><col style=\"background-color: blue\"/></colgroup><thead><tr><th>Column 1</th><th>Column 2</th><th>Column 3</th></tr></thead><tfoot><tr><td colspan=\"3\">footer</td></tr></tfoot><tbody><tr><td>1.1</td><td>2.1</td><td>3.1</td></tr><tr><td>1.2</td><td>2.2</td><td>3.2</td></tr></tbody><tbody id=\"tbody3\"><tr><td>1.3</td><td>2.3</td><td>3.3</td></tr></tbody><tbody id=\"tbody4\"><tr><td>1.4</td><td>2.4</td><td>3.4</td></tr></tbody></table>"
       ],
       "metadata": {},
       "output_type": "pyout",
       "prompt_number": 22,
       "text": [
        "<remarkuple.table.table at 0x102fbead0>"
       ]
      }
     ],
     "prompt_number": 22
    },
    {
     "cell_type": "heading",
     "level": 3,
     "metadata": {},
     "source": [
      "Some styles for table"
     ]
    },
    {
     "cell_type": "code",
     "collapsed": false,
     "input": [
      "%%html\n",
      "<style type=\"text/css\">\n",
      "table#data { margin: 1em auto; border-collapse: collapse; border: 0} \n",
      "table#data caption { font-size: 1.2em; text-align: center; padding: 3px} \n",
      "table#data th, table#data td { padding: .25em; border: 1px solid #000; font-family: sans-serif; color: white} \n",
      "table#data th { color: #004900; font-weight: bold; text-align: left; } \n",
      "table#data thead th { border-bottom: 3px double #000; background-color: #ddd; text-align: center; } \n",
      "table#data tfoot td { border-top: 3px double #000; color: #fff; font-style: italic; font-size: .8em; text-align: center; background-color: brown} \n",
      "table#data tbody th { color: #000; }\n",
      "table#data #tbody3 {font-weight: bold;font-size: 1.5em;}\n",
      "table#data #tbody4 {font-style: italic;}\n",
      "</style>"
     ],
     "language": "python",
     "metadata": {},
     "outputs": [
      {
       "html": [
        "<style type=\"text/css\">\n",
        "table#data { margin: 1em auto; border-collapse: collapse; border: 0} \n",
        "table#data caption { font-size: 1.2em; text-align: center; padding: 3px} \n",
        "table#data th, table#data td { padding: .25em; border: 1px solid #000; font-family: sans-serif; color: white} \n",
        "table#data th { color: #004900; font-weight: bold; text-align: left; } \n",
        "table#data thead th { border-bottom: 3px double #000; background-color: #ddd; text-align: center; } \n",
        "table#data tfoot td { border-top: 3px double #000; color: #fff; font-style: italic; font-size: .8em; text-align: center; background-color: brown} \n",
        "table#data tbody th { color: #000; }\n",
        "table#data #tbody3 {font-weight: bold;font-size: 1.5em;}\n",
        "table#data #tbody4 {font-style: italic;}\n",
        "</style>"
       ],
       "metadata": {},
       "output_type": "display_data",
       "text": [
        "<IPython.core.display.HTML at 0x102fb3310>"
       ]
      }
     ],
     "prompt_number": 23
    },
    {
     "cell_type": "markdown",
     "metadata": {},
     "source": [
      "## SVG class"
     ]
    },
    {
     "cell_type": "code",
     "collapsed": false,
     "input": [
      "class svg(type(h.svg())):\n",
      "    \n",
      "    def __init__(self, *args, **kw):\n",
      "        pass\n",
      "    \n",
      "    def set_grid(self, boolean):\n",
      "        pass\n",
      "    \n",
      "    def set_axis(self, boolean):\n",
      "        pass\n",
      "    \n",
      "    def set_origin(self, boolean):\n",
      "        pass\n",
      "    \n",
      "    def set_size(self, width, height):\n",
      "        pass\n",
      "    \n",
      "    def set_text(self, *args, **kw):\n",
      "        pass\n",
      "    \n",
      "    def set_rectangle(self, *args, **kw):\n",
      "        pass\n",
      "    \n",
      "    def set_group(self, *args, **kw):\n",
      "        pass\n",
      "    \n",
      "    def set_defs(self, *args, **kw):\n",
      "        pass\n",
      "    \n",
      "    def set_line(self, *args, **kw):\n",
      "        pass\n",
      "    \n",
      "    def set_circle(self, *args, **kw):\n",
      "        pass\n",
      "    \n",
      "    def set_triangle(self, *args, **kw):\n",
      "        pass\n",
      "    \n",
      "    def set_square(self, *args, **kw):\n",
      "        pass\n",
      "    \n",
      "    def set_pentagon(self, *args, **kw):\n",
      "        pass\n",
      "    \n",
      "    def set_hexagon(self, *args, **kw):\n",
      "        pass\n",
      "    \n",
      "    def set_regular_polygon(self, *args, **kw):\n",
      "        pass\n",
      "    \n",
      "    def polygon_points(self, vertex):\n",
      "        pass\n",
      "    \n",
      "    def vertex(self, cx = 0, cy = 0, sides = 4, radius = 1, degrees = 0):\n",
      "        pass"
     ],
     "language": "python",
     "metadata": {},
     "outputs": [],
     "prompt_number": 24
    },
    {
     "cell_type": "code",
     "collapsed": false,
     "input": [
      "from remarkuple import svg\n",
      "\n",
      "s = svg().set_axes().set_grid().set_origin()\n",
      "s.set_circle(r=100, fill=\"darkgreen\", stroke=\"white\", style=\"fill-opacity: 75%\")\n",
      "s.set_circle(r=4, cx=0, cy=100)\n",
      "s.set_text(\"(0,100)\", x=5, y=105)\n",
      "\n",
      "s"
     ],
     "language": "python",
     "metadata": {},
     "outputs": [
      {
       "html": [
        "<svg width=\"400\" viewbox=\"0 0 401 401\" height=\"400\"><defs><pattern width=\"12.5\" patternunits=\"userSpaceOnUse\" id=\"gitem4344986960\" height=\"12.5\"><path stroke=\"gray\" stroke-width=\"0.5\" d=\"M 12.5 0 L 0 0 0 12.5\" fill=\"none\"/></pattern><pattern width=\"100\" patternunits=\"userSpaceOnUse\" id=\"gid4344986960\" height=\"100\"><path stroke=\"gray\" stroke-width=\"1\" d=\"M 100 0 L 0 0 0 100\" fill=\"none\"/><rect width=\"100\" height=\"100\" fill=\"url(#gitem4344986960)\"/></pattern></defs><rect width=\"401\" fill=\"white\" height=\"401\"/><rect width=\"401\" fill=\"url(#gid4344986960)\" height=\"401\"/><line y1=\"0\" x2=\"200\" stroke=\"black\" x1=\"200\" y2=\"400\"/><line y1=\"200\" x2=\"400\" stroke=\"black\" x1=\"0\" y2=\"200\"/><circle style=\"fill-opacity: 50%\" cx=\"200\" stroke=\"black\" cy=\"200\" r=\"2\" fill=\"black\"/><text y=\"195\" x=\"205\" style=\"fill-opacity: 50%\">(0,0)</text><circle style=\"fill-opacity: 75%\" cx=\"200\" stroke=\"white\" cy=\"200\" r=\"100\" fill=\"darkgreen\"/><circle cy=\"100\" cx=\"200\" r=\"4\"/><text y=\"95\" x=\"205\">(0,100)</text></svg>"
       ],
       "metadata": {},
       "output_type": "pyout",
       "prompt_number": 25,
       "text": [
        "<remarkuple.svg.svg at 0x102fb3d50>"
       ]
      }
     ],
     "prompt_number": 25
    },
    {
     "cell_type": "code",
     "collapsed": false,
     "input": [
      "from numpy import linspace, pi, sin, cos\n",
      "s = svg(width=200, height=200)\n",
      "for x, y in enumerate(linspace(-pi, pi, 51)):\n",
      "    s.set_circle(r=y+pi, cx=-100+x*2, cy=sin(y)*x)\n",
      "    s.set_circle(r=pi-y, cx=x*2, cy=sin(y)*x)\n",
      "    s.set_circle(r=pi-y, cx=x*2, cy=-sin(y)*x)\n",
      "    s.set_circle(r=y+pi, cx=-100+x*2, cy=-sin(y)*x)\n",
      "\n",
      "s"
     ],
     "language": "python",
     "metadata": {},
     "outputs": [
      {
       "html": [
        "<svg width=\"200\" viewbox=\"0 0 201 201\" height=\"200\"><circle cy=\"100.0\" cx=\"0\" r=\"0.0\"/><circle cy=\"100.0\" cx=\"100\" r=\"6.28318530718\"/><circle cy=\"100.0\" cx=\"100\" r=\"6.28318530718\"/><circle cy=\"100.0\" cx=\"0\" r=\"0.0\"/><circle cy=\"100.125333234\" cx=\"2\" r=\"0.125663706144\"/><circle cy=\"100.125333234\" cx=\"102\" r=\"6.15752160104\"/><circle cy=\"99.8746667664\" cx=\"102\" r=\"6.15752160104\"/><circle cy=\"99.8746667664\" cx=\"2\" r=\"0.125663706144\"/><circle cy=\"100.497379774\" cx=\"4\" r=\"0.251327412287\"/><circle cy=\"100.497379774\" cx=\"104\" r=\"6.03185789489\"/><circle cy=\"99.5026202257\" cx=\"104\" r=\"6.03185789489\"/><circle cy=\"99.5026202257\" cx=\"4\" r=\"0.251327412287\"/><circle cy=\"101.104373658\" cx=\"6\" r=\"0.376991118431\"/><circle cy=\"101.104373658\" cx=\"106\" r=\"5.90619418875\"/><circle cy=\"98.8956263419\" cx=\"106\" r=\"5.90619418875\"/><circle cy=\"98.8956263419\" cx=\"6\" r=\"0.376991118431\"/><circle cy=\"101.927014696\" cx=\"8\" r=\"0.502654824574\"/><circle cy=\"101.927014696\" cx=\"108\" r=\"5.78053048261\"/><circle cy=\"98.0729853036\" cx=\"108\" r=\"5.78053048261\"/><circle cy=\"98.0729853036\" cx=\"8\" r=\"0.502654824574\"/><circle cy=\"102.938926261\" cx=\"10\" r=\"0.628318530718\"/><circle cy=\"102.938926261\" cx=\"110\" r=\"5.65486677646\"/><circle cy=\"97.0610737385\" cx=\"110\" r=\"5.65486677646\"/><circle cy=\"97.0610737385\" cx=\"10\" r=\"0.628318530718\"/><circle cy=\"104.107282636\" cx=\"12\" r=\"0.753982236862\"/><circle cy=\"104.107282636\" cx=\"112\" r=\"5.52920307032\"/><circle cy=\"95.8927173644\" cx=\"112\" r=\"5.52920307032\"/><circle cy=\"95.8927173644\" cx=\"12\" r=\"0.753982236862\"/><circle cy=\"105.393592699\" cx=\"14\" r=\"0.879645943005\"/><circle cy=\"105.393592699\" cx=\"114\" r=\"5.40353936417\"/><circle cy=\"94.6064073006\" cx=\"114\" r=\"5.40353936417\"/><circle cy=\"94.6064073006\" cx=\"14\" r=\"0.879645943005\"/><circle cy=\"106.754623404\" cx=\"16\" r=\"1.00530964915\"/><circle cy=\"106.754623404\" cx=\"116\" r=\"5.27787565803\"/><circle cy=\"93.245376596\" cx=\"116\" r=\"5.27787565803\"/><circle cy=\"93.245376596\" cx=\"16\" r=\"1.00530964915\"/><circle cy=\"108.143443472\" cx=\"18\" r=\"1.13097335529\"/><circle cy=\"108.143443472\" cx=\"118\" r=\"5.15221195189\"/><circle cy=\"91.8565565278\" cx=\"118\" r=\"5.15221195189\"/><circle cy=\"91.8565565278\" cx=\"18\" r=\"1.13097335529\"/><circle cy=\"109.510565163\" cx=\"20\" r=\"1.25663706144\"/><circle cy=\"109.510565163\" cx=\"120\" r=\"5.02654824574\"/><circle cy=\"90.489434837\" cx=\"120\" r=\"5.02654824574\"/><circle cy=\"90.489434837\" cx=\"20\" r=\"1.25663706144\"/><circle cy=\"110.805159758\" cx=\"22\" r=\"1.38230076758\"/><circle cy=\"110.805159758\" cx=\"122\" r=\"4.9008845396\"/><circle cy=\"89.194840242\" cx=\"122\" r=\"4.9008845396\"/><circle cy=\"89.194840242\" cx=\"22\" r=\"1.38230076758\"/><circle cy=\"111.976320741\" cx=\"24\" r=\"1.50796447372\"/><circle cy=\"111.976320741\" cx=\"124\" r=\"4.77522083346\"/><circle cy=\"88.0236792589\" cx=\"124\" r=\"4.77522083346\"/><circle cy=\"88.0236792589\" cx=\"24\" r=\"1.50796447372\"/><circle cy=\"112.97434747\" cx=\"26\" r=\"1.63362817987\"/><circle cy=\"112.97434747\" cx=\"126\" r=\"4.64955712731\"/><circle cy=\"87.0256525304\" cx=\"126\" r=\"4.64955712731\"/><circle cy=\"87.0256525304\" cx=\"26\" r=\"1.63362817987\"/><circle cy=\"113.75202151\" cx=\"28\" r=\"1.75929188601\"/><circle cy=\"113.75202151\" cx=\"128\" r=\"4.52389342117\"/><circle cy=\"86.2479784898\" cx=\"128\" r=\"4.52389342117\"/><circle cy=\"86.2479784898\" cx=\"28\" r=\"1.75929188601\"/><circle cy=\"114.265847744\" cx=\"30\" r=\"1.88495559215\"/><circle cy=\"114.265847744\" cx=\"130\" r=\"4.39822971503\"/><circle cy=\"85.7341522556\" cx=\"130\" r=\"4.39822971503\"/><circle cy=\"85.7341522556\" cx=\"30\" r=\"1.88495559215\"/><circle cy=\"114.477232839\" cx=\"32\" r=\"2.0106192983\"/><circle cy=\"114.477232839\" cx=\"132\" r=\"4.27256600888\"/><circle cy=\"85.5227671605\" cx=\"132\" r=\"4.27256600888\"/><circle cy=\"85.5227671605\" cx=\"32\" r=\"2.0106192983\"/><circle cy=\"114.353574734\" cx=\"34\" r=\"2.13628300444\"/><circle cy=\"114.353574734\" cx=\"134\" r=\"4.14690230274\"/><circle cy=\"85.6464252665\" cx=\"134\" r=\"4.14690230274\"/><circle cy=\"85.6464252665\" cx=\"34\" r=\"2.13628300444\"/><circle cy=\"113.86923837\" cx=\"36\" r=\"2.26194671058\"/><circle cy=\"113.86923837\" cx=\"136\" r=\"4.02123859659\"/><circle cy=\"86.13076163\" cx=\"136\" r=\"4.02123859659\"/><circle cy=\"86.13076163\" cx=\"36\" r=\"2.26194671058\"/><circle cy=\"113.006395013\" cx=\"38\" r=\"2.38761041673\"/><circle cy=\"113.006395013\" cx=\"138\" r=\"3.89557489045\"/><circle cy=\"86.9936049874\" cx=\"138\" r=\"3.89557489045\"/><circle cy=\"86.9936049874\" cx=\"38\" r=\"2.38761041673\"/><circle cy=\"111.755705046\" cx=\"40\" r=\"2.51327412287\"/><circle cy=\"111.755705046\" cx=\"140\" r=\"3.76991118431\"/><circle cy=\"88.2442949542\" cx=\"140\" r=\"3.76991118431\"/><circle cy=\"88.2442949542\" cx=\"40\" r=\"2.51327412287\"/><circle cy=\"110.116827156\" cx=\"42\" r=\"2.63893782902\"/><circle cy=\"110.116827156\" cx=\"142\" r=\"3.64424747816\"/><circle cy=\"89.8831728439\" cx=\"142\" r=\"3.64424747816\"/><circle cy=\"89.8831728439\" cx=\"42\" r=\"2.63893782902\"/><circle cy=\"108.098740159\" cx=\"44\" r=\"2.76460153516\"/><circle cy=\"108.098740159\" cx=\"144\" r=\"3.51858377202\"/><circle cy=\"91.9012598409\" cx=\"144\" r=\"3.51858377202\"/><circle cy=\"91.9012598409\" cx=\"44\" r=\"2.76460153516\"/><circle cy=\"105.719867405\" cx=\"46\" r=\"2.8902652413\"/><circle cy=\"105.719867405\" cx=\"146\" r=\"3.39292006588\"/><circle cy=\"94.2801325952\" cx=\"146\" r=\"3.39292006588\"/><circle cy=\"94.2801325952\" cx=\"46\" r=\"2.8902652413\"/><circle cy=\"103.007997606\" cx=\"48\" r=\"3.01592894745\"/><circle cy=\"103.007997606\" cx=\"148\" r=\"3.26725635973\"/><circle cy=\"96.9920023945\" cx=\"148\" r=\"3.26725635973\"/><circle cy=\"96.9920023945\" cx=\"48\" r=\"3.01592894745\"/><circle cy=\"100.0\" cx=\"50\" r=\"3.14159265359\"/><circle cy=\"100.0\" cx=\"150\" r=\"3.14159265359\"/><circle cy=\"100.0\" cx=\"150\" r=\"3.14159265359\"/><circle cy=\"100.0\" cx=\"50\" r=\"3.14159265359\"/><circle cy=\"96.7413359273\" cx=\"52\" r=\"3.26725635973\"/><circle cy=\"96.7413359273\" cx=\"152\" r=\"3.01592894745\"/><circle cy=\"103.258664073\" cx=\"152\" r=\"3.01592894745\"/><circle cy=\"103.258664073\" cx=\"52\" r=\"3.26725635973\"/><circle cy=\"93.2853730465\" cx=\"54\" r=\"3.39292006588\"/><circle cy=\"93.2853730465\" cx=\"154\" r=\"2.8902652413\"/><circle cy=\"106.714626953\" cx=\"154\" r=\"2.8902652413\"/><circle cy=\"106.714626953\" cx=\"54\" r=\"3.39292006588\"/><circle cy=\"89.6925125248\" cx=\"56\" r=\"3.51858377202\"/><circle cy=\"89.6925125248\" cx=\"156\" r=\"2.76460153516\"/><circle cy=\"110.307487475\" cx=\"156\" r=\"2.76460153516\"/><circle cy=\"110.307487475\" cx=\"56\" r=\"3.51858377202\"/><circle cy=\"86.0291434511\" cx=\"58\" r=\"3.64424747816\"/><circle cy=\"86.0291434511\" cx=\"158\" r=\"2.63893782902\"/><circle cy=\"113.970856549\" cx=\"158\" r=\"2.63893782902\"/><circle cy=\"113.970856549\" cx=\"58\" r=\"3.64424747816\"/><circle cy=\"82.3664424312\" cx=\"60\" r=\"3.76991118431\"/><circle cy=\"82.3664424312\" cx=\"160\" r=\"2.51327412287\"/><circle cy=\"117.633557569\" cx=\"160\" r=\"2.51327412287\"/><circle cy=\"117.633557569\" cx=\"60\" r=\"3.76991118431\"/><circle cy=\"78.7790397162\" cx=\"62\" r=\"3.89557489045\"/><circle cy=\"78.7790397162\" cx=\"162\" r=\"2.38761041673\"/><circle cy=\"121.220960284\" cx=\"162\" r=\"2.38761041673\"/><circle cy=\"121.220960284\" cx=\"62\" r=\"3.89557489045\"/><circle cy=\"75.3435762312\" cx=\"64\" r=\"4.02123859659\"/><circle cy=\"75.3435762312\" cx=\"164\" r=\"2.26194671058\"/><circle cy=\"124.656423769\" cx=\"164\" r=\"2.26194671058\"/><circle cy=\"124.656423769\" cx=\"64\" r=\"4.02123859659\"/><circle cy=\"72.1371784584\" cx=\"66\" r=\"4.14690230274\"/><circle cy=\"72.1371784584\" cx=\"166\" r=\"2.13628300444\"/><circle cy=\"127.862821542\" cx=\"166\" r=\"2.13628300444\"/><circle cy=\"127.862821542\" cx=\"66\" r=\"4.14690230274\"/><circle cy=\"69.2358802162\" cx=\"68\" r=\"4.27256600888\"/><circle cy=\"69.2358802162\" cx=\"168\" r=\"2.0106192983\"/><circle cy=\"130.764119784\" cx=\"168\" r=\"2.0106192983\"/><circle cy=\"130.764119784\" cx=\"68\" r=\"4.27256600888\"/><circle cy=\"66.7130219297\" cx=\"70\" r=\"4.39822971503\"/><circle cy=\"66.7130219297\" cx=\"170\" r=\"1.88495559215\"/><circle cy=\"133.28697807\" cx=\"170\" r=\"1.88495559215\"/><circle cy=\"133.28697807\" cx=\"70\" r=\"4.39822971503\"/><circle cy=\"64.6376589738\" cx=\"72\" r=\"4.52389342117\"/><circle cy=\"64.6376589738\" cx=\"172\" r=\"1.75929188601\"/><circle cy=\"135.362341026\" cx=\"172\" r=\"1.75929188601\"/><circle cy=\"135.362341026\" cx=\"72\" r=\"4.52389342117\"/><circle cy=\"63.0730110482\" cx=\"74\" r=\"4.64955712731\"/><circle cy=\"63.0730110482\" cx=\"174\" r=\"1.63362817987\"/><circle cy=\"136.926988952\" cx=\"174\" r=\"1.63362817987\"/><circle cy=\"136.926988952\" cx=\"74\" r=\"4.64955712731\"/><circle cy=\"62.0749843197\" cx=\"76\" r=\"4.77522083346\"/><circle cy=\"62.0749843197\" cx=\"176\" r=\"1.50796447372\"/><circle cy=\"137.92501568\" cx=\"176\" r=\"1.50796447372\"/><circle cy=\"137.92501568\" cx=\"76\" r=\"4.77522083346\"/><circle cy=\"61.6907972216\" cx=\"78\" r=\"4.9008845396\"/><circle cy=\"61.6907972216\" cx=\"178\" r=\"1.38230076758\"/><circle cy=\"138.309202778\" cx=\"178\" r=\"1.38230076758\"/><circle cy=\"138.309202778\" cx=\"78\" r=\"4.9008845396\"/><circle cy=\"61.9577393482\" cx=\"80\" r=\"5.02654824574\"/><circle cy=\"61.9577393482\" cx=\"180\" r=\"1.25663706144\"/><circle cy=\"138.042260652\" cx=\"180\" r=\"1.25663706144\"/><circle cy=\"138.042260652\" cx=\"80\" r=\"5.02654824574\"/><circle cy=\"62.9020908489\" cx=\"82\" r=\"5.15221195189\"/><circle cy=\"62.9020908489\" cx=\"182\" r=\"1.13097335529\"/><circle cy=\"137.097909151\" cx=\"182\" r=\"1.13097335529\"/><circle cy=\"137.097909151\" cx=\"82\" r=\"5.15221195189\"/><circle cy=\"64.5382271289\" cx=\"84\" r=\"5.27787565803\"/><circle cy=\"64.5382271289\" cx=\"184\" r=\"1.00530964915\"/><circle cy=\"135.461772871\" cx=\"184\" r=\"1.00530964915\"/><circle cy=\"135.461772871\" cx=\"84\" r=\"5.27787565803\"/><circle cy=\"66.8679305606\" cx=\"86\" r=\"5.40353936417\"/><circle cy=\"66.8679305606\" cx=\"186\" r=\"0.879645943005\"/><circle cy=\"133.132069439\" cx=\"186\" r=\"0.879645943005\"/><circle cy=\"133.132069439\" cx=\"86\" r=\"5.40353936417\"/><circle cy=\"69.8799273391\" cx=\"88\" r=\"5.52920307032\"/><circle cy=\"69.8799273391\" cx=\"188\" r=\"0.753982236862\"/><circle cy=\"130.120072661\" cx=\"188\" r=\"0.753982236862\"/><circle cy=\"130.120072661\" cx=\"88\" r=\"5.52920307032\"/><circle cy=\"73.5496636468\" cx=\"90\" r=\"5.65486677646\"/><circle cy=\"73.5496636468\" cx=\"190\" r=\"0.628318530718\"/><circle cy=\"126.450336353\" cx=\"190\" r=\"0.628318530718\"/><circle cy=\"126.450336353\" cx=\"90\" r=\"5.65486677646\"/><circle cy=\"77.8393309913\" cx=\"92\" r=\"5.78053048261\"/><circle cy=\"77.8393309913\" cx=\"192\" r=\"0.502654824574\"/><circle cy=\"122.160669009\" cx=\"192\" r=\"0.502654824574\"/><circle cy=\"122.160669009\" cx=\"92\" r=\"5.78053048261\"/><circle cy=\"82.6981460238\" cx=\"94\" r=\"5.90619418875\"/><circle cy=\"82.6981460238\" cx=\"194\" r=\"0.376991118431\"/><circle cy=\"117.301853976\" cx=\"194\" r=\"0.376991118431\"/><circle cy=\"117.301853976\" cx=\"94\" r=\"5.90619418875\"/><circle cy=\"88.0628854161\" cx=\"96\" r=\"6.03185789489\"/><circle cy=\"88.0628854161\" cx=\"196\" r=\"0.251327412287\"/><circle cy=\"111.937114584\" cx=\"196\" r=\"0.251327412287\"/><circle cy=\"111.937114584\" cx=\"96\" r=\"6.03185789489\"/><circle cy=\"93.8586715553\" cx=\"98\" r=\"6.15752160104\"/><circle cy=\"93.8586715553\" cx=\"198\" r=\"0.125663706144\"/><circle cy=\"106.141328445\" cx=\"198\" r=\"0.125663706144\"/><circle cy=\"106.141328445\" cx=\"98\" r=\"6.15752160104\"/><circle cy=\"100.0\" cx=\"100\" r=\"6.28318530718\"/><circle cy=\"100.0\" cx=\"200\" r=\"0.0\"/><circle cy=\"100.0\" cx=\"200\" r=\"0.0\"/><circle cy=\"100.0\" cx=\"100\" r=\"6.28318530718\"/></svg>"
       ],
       "metadata": {},
       "output_type": "pyout",
       "prompt_number": 26,
       "text": [
        "<remarkuple.svg.svg at 0x102fc2dd0>"
       ]
      }
     ],
     "prompt_number": 26
    },
    {
     "cell_type": "markdown",
     "metadata": {},
     "source": [
      "## The [MIT](http://choosealicense.com/licenses/mit/) License\n",
      "\n",
      "Copyright (c) 2014 Marko Manninen"
     ]
    }
   ],
   "metadata": {}
  }
 ]
}