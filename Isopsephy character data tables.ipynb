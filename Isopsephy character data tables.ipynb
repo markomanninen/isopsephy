{
 "metadata": {
  "name": ""
 },
 "nbformat": 3,
 "nbformat_minor": 0,
 "worksheets": [
  {
   "cells": [
    {
     "cell_type": "markdown",
     "metadata": {},
     "source": [
      "#Isopsephy character data tables\n",
      "\n",
      "This notebook demonstrates couple of useful data structuring functions from isopsephy module which can be used to examine word and phrase isopsephy values. In the middle of the document there is also a short religio-philosophical speculation, how isopsephy has been used on ancient times.\n",
      "\n",
      "But for character table, basicly you need to have the isopsephy module loaded and imported on your application."
     ]
    },
    {
     "cell_type": "code",
     "collapsed": false,
     "input": [
      "import isopsephy"
     ],
     "language": "python",
     "metadata": {},
     "outputs": [],
     "prompt_number": 20
    },
    {
     "cell_type": "markdown",
     "metadata": {},
     "source": [
      "Char_table_data function returns three different Pandas dataframe tables from a given greek phrase:\n",
      "\n",
      "1. character data\n",
      "2. word summary table\n",
      "3. phrase summary table\n",
      "\n",
      "First example is given with the word \u03b4\u03b7\u03bc\u03bf\u03ba\u03c1\u03b1\u03c4\u03af\u03b1 (democrazy). Greek word is preprocessed to transform accents into simple greek letters."
     ]
    },
    {
     "cell_type": "code",
     "collapsed": false,
     "input": [
      "word = isopsephy.preprocess_greek('\u03b4\u03b7\u03bc\u03bf\u03ba\u03c1\u03b1\u03c4\u03af\u03b1')\n",
      "print word\n",
      "charsum, wordsum, phrasesum = isopsephy.char_table_data(word)"
     ],
     "language": "python",
     "metadata": {},
     "outputs": [
      {
       "output_type": "stream",
       "stream": "stdout",
       "text": [
        "\u03b4\u03b7\u03bc\u03bf\u03ba\u03c1\u03b1\u03c4\u03b9\u03b1\n"
       ]
      }
     ],
     "prompt_number": 2
    },
    {
     "cell_type": "heading",
     "level": 2,
     "metadata": {},
     "source": [
      "Character summary"
     ]
    },
    {
     "cell_type": "code",
     "collapsed": false,
     "input": [
      "charsum"
     ],
     "language": "python",
     "metadata": {},
     "outputs": [
      {
       "html": [
        "<div style=\"max-height:1000px;max-width:1500px;overflow:auto;\">\n",
        "<table border=\"1\" class=\"dataframe\">\n",
        "  <thead>\n",
        "    <tr style=\"text-align: right;\">\n",
        "      <th></th>\n",
        "      <th>isopsephy</th>\n",
        "      <th>letter</th>\n",
        "      <th>transliteration</th>\n",
        "      <th>word</th>\n",
        "    </tr>\n",
        "  </thead>\n",
        "  <tbody>\n",
        "    <tr>\n",
        "      <th>0</th>\n",
        "      <td>   4</td>\n",
        "      <td> \u03b4</td>\n",
        "      <td> d</td>\n",
        "      <td> \u03b4\u03b7\u03bc\u03bf\u03ba\u03c1\u03b1\u03c4\u03b9\u03b1</td>\n",
        "    </tr>\n",
        "    <tr>\n",
        "      <th>1</th>\n",
        "      <td>   8</td>\n",
        "      <td> \u03b7</td>\n",
        "      <td> h</td>\n",
        "      <td> \u03b4\u03b7\u03bc\u03bf\u03ba\u03c1\u03b1\u03c4\u03b9\u03b1</td>\n",
        "    </tr>\n",
        "    <tr>\n",
        "      <th>2</th>\n",
        "      <td>  40</td>\n",
        "      <td> \u03bc</td>\n",
        "      <td> m</td>\n",
        "      <td> \u03b4\u03b7\u03bc\u03bf\u03ba\u03c1\u03b1\u03c4\u03b9\u03b1</td>\n",
        "    </tr>\n",
        "    <tr>\n",
        "      <th>3</th>\n",
        "      <td>  70</td>\n",
        "      <td> \u03bf</td>\n",
        "      <td> o</td>\n",
        "      <td> \u03b4\u03b7\u03bc\u03bf\u03ba\u03c1\u03b1\u03c4\u03b9\u03b1</td>\n",
        "    </tr>\n",
        "    <tr>\n",
        "      <th>4</th>\n",
        "      <td>  20</td>\n",
        "      <td> \u03ba</td>\n",
        "      <td> k</td>\n",
        "      <td> \u03b4\u03b7\u03bc\u03bf\u03ba\u03c1\u03b1\u03c4\u03b9\u03b1</td>\n",
        "    </tr>\n",
        "    <tr>\n",
        "      <th>5</th>\n",
        "      <td> 100</td>\n",
        "      <td> \u03c1</td>\n",
        "      <td> r</td>\n",
        "      <td> \u03b4\u03b7\u03bc\u03bf\u03ba\u03c1\u03b1\u03c4\u03b9\u03b1</td>\n",
        "    </tr>\n",
        "    <tr>\n",
        "      <th>6</th>\n",
        "      <td>   1</td>\n",
        "      <td> \u03b1</td>\n",
        "      <td> a</td>\n",
        "      <td> \u03b4\u03b7\u03bc\u03bf\u03ba\u03c1\u03b1\u03c4\u03b9\u03b1</td>\n",
        "    </tr>\n",
        "    <tr>\n",
        "      <th>7</th>\n",
        "      <td> 300</td>\n",
        "      <td> \u03c4</td>\n",
        "      <td> t</td>\n",
        "      <td> \u03b4\u03b7\u03bc\u03bf\u03ba\u03c1\u03b1\u03c4\u03b9\u03b1</td>\n",
        "    </tr>\n",
        "    <tr>\n",
        "      <th>8</th>\n",
        "      <td>  10</td>\n",
        "      <td> \u03b9</td>\n",
        "      <td> i</td>\n",
        "      <td> \u03b4\u03b7\u03bc\u03bf\u03ba\u03c1\u03b1\u03c4\u03b9\u03b1</td>\n",
        "    </tr>\n",
        "    <tr>\n",
        "      <th>9</th>\n",
        "      <td>   1</td>\n",
        "      <td> \u03b1</td>\n",
        "      <td> a</td>\n",
        "      <td> \u03b4\u03b7\u03bc\u03bf\u03ba\u03c1\u03b1\u03c4\u03b9\u03b1</td>\n",
        "    </tr>\n",
        "  </tbody>\n",
        "</table>\n",
        "<p>10 rows \u00d7 4 columns</p>\n",
        "</div>"
       ],
       "metadata": {},
       "output_type": "pyout",
       "prompt_number": 3,
       "text": [
        "   isopsephy letter transliteration        word\n",
        "0          4      \u03b4               d  \u03b4\u03b7\u03bc\u03bf\u03ba\u03c1\u03b1\u03c4\u03b9\u03b1\n",
        "1          8      \u03b7               h  \u03b4\u03b7\u03bc\u03bf\u03ba\u03c1\u03b1\u03c4\u03b9\u03b1\n",
        "2         40      \u03bc               m  \u03b4\u03b7\u03bc\u03bf\u03ba\u03c1\u03b1\u03c4\u03b9\u03b1\n",
        "3         70      \u03bf               o  \u03b4\u03b7\u03bc\u03bf\u03ba\u03c1\u03b1\u03c4\u03b9\u03b1\n",
        "4         20      \u03ba               k  \u03b4\u03b7\u03bc\u03bf\u03ba\u03c1\u03b1\u03c4\u03b9\u03b1\n",
        "5        100      \u03c1               r  \u03b4\u03b7\u03bc\u03bf\u03ba\u03c1\u03b1\u03c4\u03b9\u03b1\n",
        "6          1      \u03b1               a  \u03b4\u03b7\u03bc\u03bf\u03ba\u03c1\u03b1\u03c4\u03b9\u03b1\n",
        "7        300      \u03c4               t  \u03b4\u03b7\u03bc\u03bf\u03ba\u03c1\u03b1\u03c4\u03b9\u03b1\n",
        "8         10      \u03b9               i  \u03b4\u03b7\u03bc\u03bf\u03ba\u03c1\u03b1\u03c4\u03b9\u03b1\n",
        "9          1      \u03b1               a  \u03b4\u03b7\u03bc\u03bf\u03ba\u03c1\u03b1\u03c4\u03b9\u03b1\n",
        "\n",
        "[10 rows x 4 columns]"
       ]
      }
     ],
     "prompt_number": 3
    },
    {
     "cell_type": "heading",
     "level": 2,
     "metadata": {},
     "source": [
      "Word summary"
     ]
    },
    {
     "cell_type": "markdown",
     "metadata": {},
     "source": [
      "Word summary table presents all characters grouped by words. Columns has isopsephy, character, digital sum and digital root values per words."
     ]
    },
    {
     "cell_type": "code",
     "collapsed": false,
     "input": [
      "wordsum"
     ],
     "language": "python",
     "metadata": {},
     "outputs": [
      {
       "html": [
        "<div style=\"max-height:1000px;max-width:1500px;overflow:auto;\">\n",
        "<table border=\"1\" class=\"dataframe\">\n",
        "  <thead>\n",
        "    <tr style=\"text-align: right;\">\n",
        "      <th></th>\n",
        "      <th>isopsephy</th>\n",
        "      <th>characters</th>\n",
        "      <th>digital_sum</th>\n",
        "      <th>digital_root</th>\n",
        "    </tr>\n",
        "    <tr>\n",
        "      <th>word</th>\n",
        "      <th></th>\n",
        "      <th></th>\n",
        "      <th></th>\n",
        "      <th></th>\n",
        "    </tr>\n",
        "  </thead>\n",
        "  <tbody>\n",
        "    <tr>\n",
        "      <th>\u03b4\u03b7\u03bc\u03bf\u03ba\u03c1\u03b1\u03c4\u03b9\u03b1</th>\n",
        "      <td> 554</td>\n",
        "      <td> 10</td>\n",
        "      <td> 14</td>\n",
        "      <td> 5</td>\n",
        "    </tr>\n",
        "  </tbody>\n",
        "</table>\n",
        "<p>1 rows \u00d7 4 columns</p>\n",
        "</div>"
       ],
       "metadata": {},
       "output_type": "pyout",
       "prompt_number": 4,
       "text": [
        "            isopsephy  characters  digital_sum  digital_root\n",
        "word                                                        \n",
        "\u03b4\u03b7\u03bc\u03bf\u03ba\u03c1\u03b1\u03c4\u03b9\u03b1        554          10           14             5\n",
        "\n",
        "[1 rows x 4 columns]"
       ]
      }
     ],
     "prompt_number": 4
    },
    {
     "cell_type": "heading",
     "level": 2,
     "metadata": {},
     "source": [
      "Phrase summary"
     ]
    },
    {
     "cell_type": "markdown",
     "metadata": {},
     "source": [
      "Finally phrase summary table aggregates all words and presents summary of the whole phrase with same columns as word summary. In this case, where only one word is given for analysis, phrase summary table is practically same as word summary table."
     ]
    },
    {
     "cell_type": "code",
     "collapsed": false,
     "input": [
      "phrasesum"
     ],
     "language": "python",
     "metadata": {},
     "outputs": [
      {
       "html": [
        "<div style=\"max-height:1000px;max-width:1500px;overflow:auto;\">\n",
        "<table border=\"1\" class=\"dataframe\">\n",
        "  <thead>\n",
        "    <tr style=\"text-align: right;\">\n",
        "      <th></th>\n",
        "      <th>characters</th>\n",
        "      <th>digital_root</th>\n",
        "      <th>digital_sum</th>\n",
        "      <th>isopsephy</th>\n",
        "      <th>phrase</th>\n",
        "    </tr>\n",
        "  </thead>\n",
        "  <tbody>\n",
        "    <tr>\n",
        "      <th>0</th>\n",
        "      <td> 10</td>\n",
        "      <td> 5</td>\n",
        "      <td> 14</td>\n",
        "      <td> 554</td>\n",
        "      <td> \u03b4\u03b7\u03bc\u03bf\u03ba\u03c1\u03b1\u03c4\u03b9\u03b1</td>\n",
        "    </tr>\n",
        "  </tbody>\n",
        "</table>\n",
        "<p>1 rows \u00d7 5 columns</p>\n",
        "</div>"
       ],
       "metadata": {},
       "output_type": "pyout",
       "prompt_number": 5,
       "text": [
        "   characters  digital_root  digital_sum  isopsephy      phrase\n",
        "0          10             5           14        554  \u03b4\u03b7\u03bc\u03bf\u03ba\u03c1\u03b1\u03c4\u03b9\u03b1\n",
        "\n",
        "[1 rows x 5 columns]"
       ]
      }
     ],
     "prompt_number": 5
    },
    {
     "cell_type": "markdown",
     "metadata": {},
     "source": [
      "Next example is given with the word \u1f31\u03b5\u03c1\u03b1\u03c1\u03c7\u03af\u03b1 (hierarchy)."
     ]
    },
    {
     "cell_type": "code",
     "collapsed": false,
     "input": [
      "word = isopsephy.preprocess_greek('\u1f31\u03b5\u03c1\u03b1\u03c1\u03c7\u03af\u03b1')\n",
      "print word\n",
      "charsum, wordsum, phrasesum = isopsephy.char_table_data(word)\n",
      "charsum"
     ],
     "language": "python",
     "metadata": {},
     "outputs": [
      {
       "output_type": "stream",
       "stream": "stdout",
       "text": [
        "\u03b9\u03b5\u03c1\u03b1\u03c1\u03c7\u03b9\u03b1\n"
       ]
      },
      {
       "html": [
        "<div style=\"max-height:1000px;max-width:1500px;overflow:auto;\">\n",
        "<table border=\"1\" class=\"dataframe\">\n",
        "  <thead>\n",
        "    <tr style=\"text-align: right;\">\n",
        "      <th></th>\n",
        "      <th>isopsephy</th>\n",
        "      <th>letter</th>\n",
        "      <th>transliteration</th>\n",
        "      <th>word</th>\n",
        "    </tr>\n",
        "  </thead>\n",
        "  <tbody>\n",
        "    <tr>\n",
        "      <th>0</th>\n",
        "      <td>  10</td>\n",
        "      <td> \u03b9</td>\n",
        "      <td> i</td>\n",
        "      <td> \u03b9\u03b5\u03c1\u03b1\u03c1\u03c7\u03b9\u03b1</td>\n",
        "    </tr>\n",
        "    <tr>\n",
        "      <th>1</th>\n",
        "      <td>   5</td>\n",
        "      <td> \u03b5</td>\n",
        "      <td> e</td>\n",
        "      <td> \u03b9\u03b5\u03c1\u03b1\u03c1\u03c7\u03b9\u03b1</td>\n",
        "    </tr>\n",
        "    <tr>\n",
        "      <th>2</th>\n",
        "      <td> 100</td>\n",
        "      <td> \u03c1</td>\n",
        "      <td> r</td>\n",
        "      <td> \u03b9\u03b5\u03c1\u03b1\u03c1\u03c7\u03b9\u03b1</td>\n",
        "    </tr>\n",
        "    <tr>\n",
        "      <th>3</th>\n",
        "      <td>   1</td>\n",
        "      <td> \u03b1</td>\n",
        "      <td> a</td>\n",
        "      <td> \u03b9\u03b5\u03c1\u03b1\u03c1\u03c7\u03b9\u03b1</td>\n",
        "    </tr>\n",
        "    <tr>\n",
        "      <th>4</th>\n",
        "      <td> 100</td>\n",
        "      <td> \u03c1</td>\n",
        "      <td> r</td>\n",
        "      <td> \u03b9\u03b5\u03c1\u03b1\u03c1\u03c7\u03b9\u03b1</td>\n",
        "    </tr>\n",
        "    <tr>\n",
        "      <th>5</th>\n",
        "      <td> 600</td>\n",
        "      <td> \u03c7</td>\n",
        "      <td> x</td>\n",
        "      <td> \u03b9\u03b5\u03c1\u03b1\u03c1\u03c7\u03b9\u03b1</td>\n",
        "    </tr>\n",
        "    <tr>\n",
        "      <th>6</th>\n",
        "      <td>  10</td>\n",
        "      <td> \u03b9</td>\n",
        "      <td> i</td>\n",
        "      <td> \u03b9\u03b5\u03c1\u03b1\u03c1\u03c7\u03b9\u03b1</td>\n",
        "    </tr>\n",
        "    <tr>\n",
        "      <th>7</th>\n",
        "      <td>   1</td>\n",
        "      <td> \u03b1</td>\n",
        "      <td> a</td>\n",
        "      <td> \u03b9\u03b5\u03c1\u03b1\u03c1\u03c7\u03b9\u03b1</td>\n",
        "    </tr>\n",
        "  </tbody>\n",
        "</table>\n",
        "<p>8 rows \u00d7 4 columns</p>\n",
        "</div>"
       ],
       "metadata": {},
       "output_type": "pyout",
       "prompt_number": 22,
       "text": [
        "   isopsephy letter transliteration      word\n",
        "0         10      \u03b9               i  \u03b9\u03b5\u03c1\u03b1\u03c1\u03c7\u03b9\u03b1\n",
        "1          5      \u03b5               e  \u03b9\u03b5\u03c1\u03b1\u03c1\u03c7\u03b9\u03b1\n",
        "2        100      \u03c1               r  \u03b9\u03b5\u03c1\u03b1\u03c1\u03c7\u03b9\u03b1\n",
        "3          1      \u03b1               a  \u03b9\u03b5\u03c1\u03b1\u03c1\u03c7\u03b9\u03b1\n",
        "4        100      \u03c1               r  \u03b9\u03b5\u03c1\u03b1\u03c1\u03c7\u03b9\u03b1\n",
        "5        600      \u03c7               x  \u03b9\u03b5\u03c1\u03b1\u03c1\u03c7\u03b9\u03b1\n",
        "6         10      \u03b9               i  \u03b9\u03b5\u03c1\u03b1\u03c1\u03c7\u03b9\u03b1\n",
        "7          1      \u03b1               a  \u03b9\u03b5\u03c1\u03b1\u03c1\u03c7\u03b9\u03b1\n",
        "\n",
        "[8 rows x 4 columns]"
       ]
      }
     ],
     "prompt_number": 22
    },
    {
     "cell_type": "code",
     "collapsed": false,
     "input": [
      "wordsum"
     ],
     "language": "python",
     "metadata": {},
     "outputs": [
      {
       "html": [
        "<div style=\"max-height:1000px;max-width:1500px;overflow:auto;\">\n",
        "<table border=\"1\" class=\"dataframe\">\n",
        "  <thead>\n",
        "    <tr style=\"text-align: right;\">\n",
        "      <th></th>\n",
        "      <th>isopsephy</th>\n",
        "      <th>characters</th>\n",
        "      <th>digital_sum</th>\n",
        "      <th>digital_root</th>\n",
        "    </tr>\n",
        "    <tr>\n",
        "      <th>word</th>\n",
        "      <th></th>\n",
        "      <th></th>\n",
        "      <th></th>\n",
        "      <th></th>\n",
        "    </tr>\n",
        "  </thead>\n",
        "  <tbody>\n",
        "    <tr>\n",
        "      <th>\u03b9\u03b5\u03c1\u03b1\u03c1\u03c7\u03b9\u03b1</th>\n",
        "      <td> 827</td>\n",
        "      <td> 8</td>\n",
        "      <td> 17</td>\n",
        "      <td> 8</td>\n",
        "    </tr>\n",
        "  </tbody>\n",
        "</table>\n",
        "<p>1 rows \u00d7 4 columns</p>\n",
        "</div>"
       ],
       "metadata": {},
       "output_type": "pyout",
       "prompt_number": 23,
       "text": [
        "          isopsephy  characters  digital_sum  digital_root\n",
        "word                                                      \n",
        "\u03b9\u03b5\u03c1\u03b1\u03c1\u03c7\u03b9\u03b1        827           8           17             8\n",
        "\n",
        "[1 rows x 4 columns]"
       ]
      }
     ],
     "prompt_number": 23
    },
    {
     "cell_type": "markdown",
     "metadata": {},
     "source": [
      "Third single word example is given with the word \u1f10\u03be\u03bf\u03c5\u03c3\u03af\u03b1 (authority)."
     ]
    },
    {
     "cell_type": "code",
     "collapsed": false,
     "input": [
      "word = isopsephy.preprocess_greek('\u1f10\u03be\u03bf\u03c5\u03c3\u03af\u03b1')\n",
      "print word\n",
      "charsum, wordsum, phrasesum = isopsephy.char_table_data(word)\n",
      "charsum"
     ],
     "language": "python",
     "metadata": {},
     "outputs": [
      {
       "output_type": "stream",
       "stream": "stdout",
       "text": [
        "\u03b5\u03be\u03bf\u03c5\u03c3\u03b9\u03b1\n"
       ]
      },
      {
       "html": [
        "<div style=\"max-height:1000px;max-width:1500px;overflow:auto;\">\n",
        "<table border=\"1\" class=\"dataframe\">\n",
        "  <thead>\n",
        "    <tr style=\"text-align: right;\">\n",
        "      <th></th>\n",
        "      <th>isopsephy</th>\n",
        "      <th>letter</th>\n",
        "      <th>transliteration</th>\n",
        "      <th>word</th>\n",
        "    </tr>\n",
        "  </thead>\n",
        "  <tbody>\n",
        "    <tr>\n",
        "      <th>0</th>\n",
        "      <td>   5</td>\n",
        "      <td> \u03b5</td>\n",
        "      <td> e</td>\n",
        "      <td> \u03b5\u03be\u03bf\u03c5\u03c3\u03b9\u03b1</td>\n",
        "    </tr>\n",
        "    <tr>\n",
        "      <th>1</th>\n",
        "      <td>  60</td>\n",
        "      <td> \u03be</td>\n",
        "      <td> c</td>\n",
        "      <td> \u03b5\u03be\u03bf\u03c5\u03c3\u03b9\u03b1</td>\n",
        "    </tr>\n",
        "    <tr>\n",
        "      <th>2</th>\n",
        "      <td>  70</td>\n",
        "      <td> \u03bf</td>\n",
        "      <td> o</td>\n",
        "      <td> \u03b5\u03be\u03bf\u03c5\u03c3\u03b9\u03b1</td>\n",
        "    </tr>\n",
        "    <tr>\n",
        "      <th>3</th>\n",
        "      <td> 400</td>\n",
        "      <td> \u03c5</td>\n",
        "      <td> u</td>\n",
        "      <td> \u03b5\u03be\u03bf\u03c5\u03c3\u03b9\u03b1</td>\n",
        "    </tr>\n",
        "    <tr>\n",
        "      <th>4</th>\n",
        "      <td> 200</td>\n",
        "      <td> \u03c3</td>\n",
        "      <td> s</td>\n",
        "      <td> \u03b5\u03be\u03bf\u03c5\u03c3\u03b9\u03b1</td>\n",
        "    </tr>\n",
        "    <tr>\n",
        "      <th>5</th>\n",
        "      <td>  10</td>\n",
        "      <td> \u03b9</td>\n",
        "      <td> i</td>\n",
        "      <td> \u03b5\u03be\u03bf\u03c5\u03c3\u03b9\u03b1</td>\n",
        "    </tr>\n",
        "    <tr>\n",
        "      <th>6</th>\n",
        "      <td>   1</td>\n",
        "      <td> \u03b1</td>\n",
        "      <td> a</td>\n",
        "      <td> \u03b5\u03be\u03bf\u03c5\u03c3\u03b9\u03b1</td>\n",
        "    </tr>\n",
        "  </tbody>\n",
        "</table>\n",
        "<p>7 rows \u00d7 4 columns</p>\n",
        "</div>"
       ],
       "metadata": {},
       "output_type": "pyout",
       "prompt_number": 24,
       "text": [
        "   isopsephy letter transliteration     word\n",
        "0          5      \u03b5               e  \u03b5\u03be\u03bf\u03c5\u03c3\u03b9\u03b1\n",
        "1         60      \u03be               c  \u03b5\u03be\u03bf\u03c5\u03c3\u03b9\u03b1\n",
        "2         70      \u03bf               o  \u03b5\u03be\u03bf\u03c5\u03c3\u03b9\u03b1\n",
        "3        400      \u03c5               u  \u03b5\u03be\u03bf\u03c5\u03c3\u03b9\u03b1\n",
        "4        200      \u03c3               s  \u03b5\u03be\u03bf\u03c5\u03c3\u03b9\u03b1\n",
        "5         10      \u03b9               i  \u03b5\u03be\u03bf\u03c5\u03c3\u03b9\u03b1\n",
        "6          1      \u03b1               a  \u03b5\u03be\u03bf\u03c5\u03c3\u03b9\u03b1\n",
        "\n",
        "[7 rows x 4 columns]"
       ]
      }
     ],
     "prompt_number": 24
    },
    {
     "cell_type": "code",
     "collapsed": false,
     "input": [
      "wordsum"
     ],
     "language": "python",
     "metadata": {},
     "outputs": [
      {
       "html": [
        "<div style=\"max-height:1000px;max-width:1500px;overflow:auto;\">\n",
        "<table border=\"1\" class=\"dataframe\">\n",
        "  <thead>\n",
        "    <tr style=\"text-align: right;\">\n",
        "      <th></th>\n",
        "      <th>isopsephy</th>\n",
        "      <th>characters</th>\n",
        "      <th>digital_sum</th>\n",
        "      <th>digital_root</th>\n",
        "    </tr>\n",
        "    <tr>\n",
        "      <th>word</th>\n",
        "      <th></th>\n",
        "      <th></th>\n",
        "      <th></th>\n",
        "      <th></th>\n",
        "    </tr>\n",
        "  </thead>\n",
        "  <tbody>\n",
        "    <tr>\n",
        "      <th>\u03b5\u03be\u03bf\u03c5\u03c3\u03b9\u03b1</th>\n",
        "      <td> 746</td>\n",
        "      <td> 7</td>\n",
        "      <td> 17</td>\n",
        "      <td> 8</td>\n",
        "    </tr>\n",
        "  </tbody>\n",
        "</table>\n",
        "<p>1 rows \u00d7 4 columns</p>\n",
        "</div>"
       ],
       "metadata": {},
       "output_type": "pyout",
       "prompt_number": 25,
       "text": [
        "         isopsephy  characters  digital_sum  digital_root\n",
        "word                                                     \n",
        "\u03b5\u03be\u03bf\u03c5\u03c3\u03b9\u03b1        746           7           17             8\n",
        "\n",
        "[1 rows x 4 columns]"
       ]
      }
     ],
     "prompt_number": 25
    },
    {
     "cell_type": "heading",
     "level": 2,
     "metadata": {},
     "source": [
      "Multiple word phrase"
     ]
    },
    {
     "cell_type": "markdown",
     "metadata": {},
     "source": [
      "While above examples had only one word on subject of analysis, real power of char_table_data function comes when analysing phrases containing several words. For religio.philosofical speculation phrase used here \u03ba\u03c5\u03c1\u03b9\u03bf\u03c3 \u0399\u03b7\u03c3\u03bf\u03c5\u03c2 \u03a7\u03c1\u03b9\u03c3\u03c4\u03bf\u03c2 (Lord Jesus Christ) "
     ]
    },
    {
     "cell_type": "code",
     "collapsed": false,
     "input": [
      "phrase = '\u03ba\u03c5\u03c1\u03b9\u03bf\u03c3 \u0399\u03b7\u03c3\u03bf\u03c5\u03c2 \u03a7\u03c1\u03b9\u03c3\u03c4\u03bf\u03c2'\n",
      "charsum, wordsum, phrasesum = isopsephy.char_table_data(phrase)\n",
      "charsum"
     ],
     "language": "python",
     "metadata": {},
     "outputs": [
      {
       "html": [
        "<div style=\"max-height:1000px;max-width:1500px;overflow:auto;\">\n",
        "<table border=\"1\" class=\"dataframe\">\n",
        "  <thead>\n",
        "    <tr style=\"text-align: right;\">\n",
        "      <th></th>\n",
        "      <th>isopsephy</th>\n",
        "      <th>letter</th>\n",
        "      <th>transliteration</th>\n",
        "      <th>word</th>\n",
        "    </tr>\n",
        "  </thead>\n",
        "  <tbody>\n",
        "    <tr>\n",
        "      <th>0 </th>\n",
        "      <td>  20</td>\n",
        "      <td> \u03ba</td>\n",
        "      <td> k</td>\n",
        "      <td>  \u03ba\u03c5\u03c1\u03b9\u03bf\u03c3</td>\n",
        "    </tr>\n",
        "    <tr>\n",
        "      <th>1 </th>\n",
        "      <td> 400</td>\n",
        "      <td> \u03c5</td>\n",
        "      <td> u</td>\n",
        "      <td>  \u03ba\u03c5\u03c1\u03b9\u03bf\u03c3</td>\n",
        "    </tr>\n",
        "    <tr>\n",
        "      <th>2 </th>\n",
        "      <td> 100</td>\n",
        "      <td> \u03c1</td>\n",
        "      <td> r</td>\n",
        "      <td>  \u03ba\u03c5\u03c1\u03b9\u03bf\u03c3</td>\n",
        "    </tr>\n",
        "    <tr>\n",
        "      <th>3 </th>\n",
        "      <td>  10</td>\n",
        "      <td> \u03b9</td>\n",
        "      <td> i</td>\n",
        "      <td>  \u03ba\u03c5\u03c1\u03b9\u03bf\u03c3</td>\n",
        "    </tr>\n",
        "    <tr>\n",
        "      <th>4 </th>\n",
        "      <td>  70</td>\n",
        "      <td> \u03bf</td>\n",
        "      <td> o</td>\n",
        "      <td>  \u03ba\u03c5\u03c1\u03b9\u03bf\u03c3</td>\n",
        "    </tr>\n",
        "    <tr>\n",
        "      <th>5 </th>\n",
        "      <td> 200</td>\n",
        "      <td> \u03c3</td>\n",
        "      <td> s</td>\n",
        "      <td>  \u03ba\u03c5\u03c1\u03b9\u03bf\u03c3</td>\n",
        "    </tr>\n",
        "    <tr>\n",
        "      <th>6 </th>\n",
        "      <td>  10</td>\n",
        "      <td> \u0399</td>\n",
        "      <td> I</td>\n",
        "      <td>  \u0399\u03b7\u03c3\u03bf\u03c5\u03c2</td>\n",
        "    </tr>\n",
        "    <tr>\n",
        "      <th>7 </th>\n",
        "      <td>   8</td>\n",
        "      <td> \u03b7</td>\n",
        "      <td> h</td>\n",
        "      <td>  \u0399\u03b7\u03c3\u03bf\u03c5\u03c2</td>\n",
        "    </tr>\n",
        "    <tr>\n",
        "      <th>8 </th>\n",
        "      <td> 200</td>\n",
        "      <td> \u03c3</td>\n",
        "      <td> s</td>\n",
        "      <td>  \u0399\u03b7\u03c3\u03bf\u03c5\u03c2</td>\n",
        "    </tr>\n",
        "    <tr>\n",
        "      <th>9 </th>\n",
        "      <td>  70</td>\n",
        "      <td> \u03bf</td>\n",
        "      <td> o</td>\n",
        "      <td>  \u0399\u03b7\u03c3\u03bf\u03c5\u03c2</td>\n",
        "    </tr>\n",
        "    <tr>\n",
        "      <th>10</th>\n",
        "      <td> 400</td>\n",
        "      <td> \u03c5</td>\n",
        "      <td> u</td>\n",
        "      <td>  \u0399\u03b7\u03c3\u03bf\u03c5\u03c2</td>\n",
        "    </tr>\n",
        "    <tr>\n",
        "      <th>11</th>\n",
        "      <td> 200</td>\n",
        "      <td> \u03c2</td>\n",
        "      <td> s</td>\n",
        "      <td>  \u0399\u03b7\u03c3\u03bf\u03c5\u03c2</td>\n",
        "    </tr>\n",
        "    <tr>\n",
        "      <th>12</th>\n",
        "      <td> 600</td>\n",
        "      <td> \u03a7</td>\n",
        "      <td> X</td>\n",
        "      <td> \u03a7\u03c1\u03b9\u03c3\u03c4\u03bf\u03c2</td>\n",
        "    </tr>\n",
        "    <tr>\n",
        "      <th>13</th>\n",
        "      <td> 100</td>\n",
        "      <td> \u03c1</td>\n",
        "      <td> r</td>\n",
        "      <td> \u03a7\u03c1\u03b9\u03c3\u03c4\u03bf\u03c2</td>\n",
        "    </tr>\n",
        "    <tr>\n",
        "      <th>14</th>\n",
        "      <td>  10</td>\n",
        "      <td> \u03b9</td>\n",
        "      <td> i</td>\n",
        "      <td> \u03a7\u03c1\u03b9\u03c3\u03c4\u03bf\u03c2</td>\n",
        "    </tr>\n",
        "    <tr>\n",
        "      <th>15</th>\n",
        "      <td> 200</td>\n",
        "      <td> \u03c3</td>\n",
        "      <td> s</td>\n",
        "      <td> \u03a7\u03c1\u03b9\u03c3\u03c4\u03bf\u03c2</td>\n",
        "    </tr>\n",
        "    <tr>\n",
        "      <th>16</th>\n",
        "      <td> 300</td>\n",
        "      <td> \u03c4</td>\n",
        "      <td> t</td>\n",
        "      <td> \u03a7\u03c1\u03b9\u03c3\u03c4\u03bf\u03c2</td>\n",
        "    </tr>\n",
        "    <tr>\n",
        "      <th>17</th>\n",
        "      <td>  70</td>\n",
        "      <td> \u03bf</td>\n",
        "      <td> o</td>\n",
        "      <td> \u03a7\u03c1\u03b9\u03c3\u03c4\u03bf\u03c2</td>\n",
        "    </tr>\n",
        "    <tr>\n",
        "      <th>18</th>\n",
        "      <td> 200</td>\n",
        "      <td> \u03c2</td>\n",
        "      <td> s</td>\n",
        "      <td> \u03a7\u03c1\u03b9\u03c3\u03c4\u03bf\u03c2</td>\n",
        "    </tr>\n",
        "  </tbody>\n",
        "</table>\n",
        "<p>19 rows \u00d7 4 columns</p>\n",
        "</div>"
       ],
       "metadata": {},
       "output_type": "pyout",
       "prompt_number": 10,
       "text": [
        "    isopsephy letter transliteration     word\n",
        "0          20      \u03ba               k   \u03ba\u03c5\u03c1\u03b9\u03bf\u03c3\n",
        "1         400      \u03c5               u   \u03ba\u03c5\u03c1\u03b9\u03bf\u03c3\n",
        "2         100      \u03c1               r   \u03ba\u03c5\u03c1\u03b9\u03bf\u03c3\n",
        "3          10      \u03b9               i   \u03ba\u03c5\u03c1\u03b9\u03bf\u03c3\n",
        "4          70      \u03bf               o   \u03ba\u03c5\u03c1\u03b9\u03bf\u03c3\n",
        "5         200      \u03c3               s   \u03ba\u03c5\u03c1\u03b9\u03bf\u03c3\n",
        "6          10      \u0399               I   \u0399\u03b7\u03c3\u03bf\u03c5\u03c2\n",
        "7           8      \u03b7               h   \u0399\u03b7\u03c3\u03bf\u03c5\u03c2\n",
        "8         200      \u03c3               s   \u0399\u03b7\u03c3\u03bf\u03c5\u03c2\n",
        "9          70      \u03bf               o   \u0399\u03b7\u03c3\u03bf\u03c5\u03c2\n",
        "10        400      \u03c5               u   \u0399\u03b7\u03c3\u03bf\u03c5\u03c2\n",
        "11        200      \u03c2               s   \u0399\u03b7\u03c3\u03bf\u03c5\u03c2\n",
        "12        600      \u03a7               X  \u03a7\u03c1\u03b9\u03c3\u03c4\u03bf\u03c2\n",
        "13        100      \u03c1               r  \u03a7\u03c1\u03b9\u03c3\u03c4\u03bf\u03c2\n",
        "14         10      \u03b9               i  \u03a7\u03c1\u03b9\u03c3\u03c4\u03bf\u03c2\n",
        "15        200      \u03c3               s  \u03a7\u03c1\u03b9\u03c3\u03c4\u03bf\u03c2\n",
        "16        300      \u03c4               t  \u03a7\u03c1\u03b9\u03c3\u03c4\u03bf\u03c2\n",
        "17         70      \u03bf               o  \u03a7\u03c1\u03b9\u03c3\u03c4\u03bf\u03c2\n",
        "18        200      \u03c2               s  \u03a7\u03c1\u03b9\u03c3\u03c4\u03bf\u03c2\n",
        "\n",
        "[19 rows x 4 columns]"
       ]
      }
     ],
     "prompt_number": 10
    },
    {
     "cell_type": "code",
     "collapsed": false,
     "input": [
      "wordsum"
     ],
     "language": "python",
     "metadata": {},
     "outputs": [
      {
       "html": [
        "<div style=\"max-height:1000px;max-width:1500px;overflow:auto;\">\n",
        "<table border=\"1\" class=\"dataframe\">\n",
        "  <thead>\n",
        "    <tr style=\"text-align: right;\">\n",
        "      <th></th>\n",
        "      <th>isopsephy</th>\n",
        "      <th>characters</th>\n",
        "      <th>digital_sum</th>\n",
        "      <th>digital_root</th>\n",
        "    </tr>\n",
        "    <tr>\n",
        "      <th>word</th>\n",
        "      <th></th>\n",
        "      <th></th>\n",
        "      <th></th>\n",
        "      <th></th>\n",
        "    </tr>\n",
        "  </thead>\n",
        "  <tbody>\n",
        "    <tr>\n",
        "      <th>\u0399\u03b7\u03c3\u03bf\u03c5\u03c2</th>\n",
        "      <td>  888</td>\n",
        "      <td> 6</td>\n",
        "      <td> 24</td>\n",
        "      <td> 6</td>\n",
        "    </tr>\n",
        "    <tr>\n",
        "      <th>\u03a7\u03c1\u03b9\u03c3\u03c4\u03bf\u03c2</th>\n",
        "      <td> 1480</td>\n",
        "      <td> 7</td>\n",
        "      <td> 13</td>\n",
        "      <td> 4</td>\n",
        "    </tr>\n",
        "    <tr>\n",
        "      <th>\u03ba\u03c5\u03c1\u03b9\u03bf\u03c3</th>\n",
        "      <td>  800</td>\n",
        "      <td> 6</td>\n",
        "      <td>  8</td>\n",
        "      <td> 8</td>\n",
        "    </tr>\n",
        "  </tbody>\n",
        "</table>\n",
        "<p>3 rows \u00d7 4 columns</p>\n",
        "</div>"
       ],
       "metadata": {},
       "output_type": "pyout",
       "prompt_number": 11,
       "text": [
        "         isopsephy  characters  digital_sum  digital_root\n",
        "word                                                     \n",
        "\u0399\u03b7\u03c3\u03bf\u03c5\u03c2         888           6           24             6\n",
        "\u03a7\u03c1\u03b9\u03c3\u03c4\u03bf\u03c2       1480           7           13             4\n",
        "\u03ba\u03c5\u03c1\u03b9\u03bf\u03c3         800           6            8             8\n",
        "\n",
        "[3 rows x 4 columns]"
       ]
      }
     ],
     "prompt_number": 11
    },
    {
     "cell_type": "code",
     "collapsed": false,
     "input": [
      "phrasesum"
     ],
     "language": "python",
     "metadata": {},
     "outputs": [
      {
       "html": [
        "<div style=\"max-height:1000px;max-width:1500px;overflow:auto;\">\n",
        "<table border=\"1\" class=\"dataframe\">\n",
        "  <thead>\n",
        "    <tr style=\"text-align: right;\">\n",
        "      <th></th>\n",
        "      <th>characters</th>\n",
        "      <th>digital_root</th>\n",
        "      <th>digital_sum</th>\n",
        "      <th>isopsephy</th>\n",
        "      <th>phrase</th>\n",
        "    </tr>\n",
        "  </thead>\n",
        "  <tbody>\n",
        "    <tr>\n",
        "      <th>0</th>\n",
        "      <td> 19</td>\n",
        "      <td> 9</td>\n",
        "      <td> 18</td>\n",
        "      <td> 3168</td>\n",
        "      <td> \u03ba\u03c5\u03c1\u03b9\u03bf\u03c3 \u0399\u03b7\u03c3\u03bf\u03c5\u03c2 \u03a7\u03c1\u03b9\u03c3\u03c4\u03bf\u03c2</td>\n",
        "    </tr>\n",
        "  </tbody>\n",
        "</table>\n",
        "<p>1 rows \u00d7 5 columns</p>\n",
        "</div>"
       ],
       "metadata": {},
       "output_type": "pyout",
       "prompt_number": 12,
       "text": [
        "   characters  digital_root  digital_sum  isopsephy                 phrase\n",
        "0          19             9           18       3168  \u03ba\u03c5\u03c1\u03b9\u03bf\u03c3 \u0399\u03b7\u03c3\u03bf\u03c5\u03c2 \u03a7\u03c1\u03b9\u03c3\u03c4\u03bf\u03c2\n",
        "\n",
        "[1 rows x 5 columns]"
       ]
      }
     ],
     "prompt_number": 12
    },
    {
     "cell_type": "markdown",
     "metadata": {},
     "source": [
      "# Neo-pythagorean interpretation\n",
      "\n",
      "From the perspective of neo-pythagorean interpretation, this concept of early christianity has an intriguing correspondence to Platonic numbers as well as to Pythagoras himself. We can see that isopsephy value of **`\u03ba\u03c5\u03c1\u03b9\u03bf\u03c3 \u0399\u03b7\u03c3\u03bf\u03c5\u03c2 \u03a7\u03c1\u03b9\u03c3\u03c4\u03bf\u03c2`** (Lord Jesus Christ) is 3168, which is same (just lower magnitude) as the circle perimeter of combined radius of earth (3960) and moon (1080) ie. 5040. 5040 is the optimal number of citizens in a state according to Plato in his writing \"Laws\". Using ancient whole number approximation of the pi we get:\n",
      "\n",
      "$5040*2*pi = 5040*2*22/7 = 31680$\n",
      "\n",
      "31680 is also the perimeter of a square drawn around earth thus combining the myth of squaring the circle on same enigma.\n",
      "\n",
      "From the data table above (Out[11]) we can also see that digital roots of the words \u03ba\u03c5\u03c1\u03b9\u03bf\u03c3 \u0399\u03b7\u03c3\u03bf\u03c5\u03c2 \u03a7\u03c1\u03b9\u03c3\u03c4\u03bf\u03c2 are 8,6,4. Isopsephy value of \u03a0\u03c5\u03b8\u03b1\u03b3\u03cc\u03c1\u03b1\u03c2 (Pythagoras) happens to be 864."
     ]
    },
    {
     "cell_type": "code",
     "collapsed": false,
     "input": [
      "def print_word(word):\n",
      "    word = isopsephy.preprocess_greek(word)\n",
      "    print isopsephy.isopsephy(word), word, \"(%s)\" % isopsephy.to_roman(word)\n",
      "\n",
      "print_word('\u03a0\u03c5\u03b8\u03b1\u03b3\u03cc\u03c1\u03b1\u03c2') # Pythagoras"
     ],
     "language": "python",
     "metadata": {},
     "outputs": [
      {
       "output_type": "stream",
       "stream": "stdout",
       "text": [
        "864 \u03a0\u03c5\u03b8\u03b1\u03b3\u03bf\u03c1\u03b1\u03c2 (Puqagoras)\n"
       ]
      }
     ],
     "prompt_number": 13
    },
    {
     "cell_type": "markdown",
     "metadata": {},
     "source": [
      "Few other words giving value 864 from the scriptures are:"
     ]
    },
    {
     "cell_type": "code",
     "collapsed": false,
     "input": [
      "print_word('\u0399\u03b5\u03c1\u03bf\u03c5\u03c3\u03b1\u03bb\u03b7\u03bc') # Jerusalem\n",
      "print_word('\u03b3\u03c9\u03bd\u03b9\u03b1') # an angle\n",
      "print_word('\u03b1\u03b3\u03b1\u03b8\u03c9\u03bd') # good\n",
      "print_word('\u03b1\u03b3\u03b9\u03c9\u03bd') # sacred\n",
      "print_word('\u03b4\u03b9\u03b4\u03b1\u03c3\u03ba\u03bf\u03bd\u03c4\u03b5\u03c3') # to teach, see also: mathetes\n",
      "print_word('\u03c0\u03b5\u03c1\u03b9\u03ba\u03b5\u03ba\u03b1\u03bb\u03c5\u03bc\u03bc\u03b5\u03bd\u03b7\u03bd') # to cover all around"
     ],
     "language": "python",
     "metadata": {},
     "outputs": [
      {
       "output_type": "stream",
       "stream": "stdout",
       "text": [
        "864 \u0399\u03b5\u03c1\u03bf\u03c5\u03c3\u03b1\u03bb\u03b7\u03bc (Ierousalhm)\n",
        "864 \u03b3\u03c9\u03bd\u03b9\u03b1 (gwnia)\n",
        "864 \u03b1\u03b3\u03b1\u03b8\u03c9\u03bd (agaqwn)\n",
        "864 \u03b1\u03b3\u03b9\u03c9\u03bd (agiwn)\n",
        "864 \u03b4\u03b9\u03b4\u03b1\u03c3\u03ba\u03bf\u03bd\u03c4\u03b5\u03c3 (didaskontes)\n",
        "864 \u03c0\u03b5\u03c1\u03b9\u03ba\u03b5\u03ba\u03b1\u03bb\u03c5\u03bc\u03bc\u03b5\u03bd\u03b7\u03bd (perikekalummenhn)\n"
       ]
      }
     ],
     "prompt_number": 14
    },
    {
     "cell_type": "markdown",
     "metadata": {},
     "source": [
      "One cannot miss the ancient time table of ages, aion and yugas (sanskrit) where this very same number occurs: 432, **864** [(Dwapar Yuga)](http://en.wikipedia.org/wiki/Dwapar_Yuga), 1296 and 1728.\n",
      "\n",
      "But then also \u03a0\u03c5\u03b8\u03b1\u03b3\u03cc\u03c1\u03b1\u03c2 \u1f41 \u03a3\u03ac\u03bc\u03b9\u03bf\u03c2 (Pythagoras of Samos) gives the value 1455 and interesting correspondities on the Scriptures:"
     ]
    },
    {
     "cell_type": "code",
     "collapsed": false,
     "input": [
      "# Pythagoras of Samos\n",
      "print_word('\u03a0\u03c5\u03b8\u03b1\u03b3\u03cc\u03c1\u03b1\u03c2 \u1f41 \u03a3\u03ac\u03bc\u03b9\u03bf\u03c2')\n",
      "# a small (moderately, slightly, a little, baby and similar expressions were aliases for sages and initiates. \n",
      "# comes from the word metron, which is a measuring rod, portion of the whole)\n",
      "print_word('\u03bc\u03b5\u03c4\u03c1\u03b9\u03c9\u03c2')\n",
      "# to draw, drag off, geometrical act and motion\n",
      "print_word('\u03b5\u03bb\u03ba\u03c5\u03c3\u03c9')\n",
      "# Moses\n",
      "print_word('\u03bc\u03c9\u03c5\u03c3\u03b5\u03b9')\n",
      "# Enoch\n",
      "print_word('\u03b5\u03bd\u03c9\u03c7')\n",
      "# root\n",
      "print_word('\u03b5\u03ba\u03c1\u03b9\u03b6\u03c9\u03c3\u03b7\u03c4\u03b5')"
     ],
     "language": "python",
     "metadata": {},
     "outputs": [
      {
       "output_type": "stream",
       "stream": "stdout",
       "text": [
        "1455 \u03a0\u03c5\u03b8\u03b1\u03b3\u03bf\u03c1\u03b1\u03c2 \u03bf \u03a3\u03b1\u03bc\u03b9\u03bf\u03c2 (Puqagoras o Samios)\n",
        "1455 \u03bc\u03b5\u03c4\u03c1\u03b9\u03c9\u03c2 (metriws)\n",
        "1455 \u03b5\u03bb\u03ba\u03c5\u03c3\u03c9 (elkusw)\n",
        "1455 \u03bc\u03c9\u03c5\u03c3\u03b5\u03b9 (mwusei)\n",
        "1455 \u03b5\u03bd\u03c9\u03c7 (enwx)\n",
        "1455 \u03b5\u03ba\u03c1\u03b9\u03b6\u03c9\u03c3\u03b7\u03c4\u03b5 (ekrizwshte)\n"
       ]
      }
     ],
     "prompt_number": 15
    },
    {
     "cell_type": "markdown",
     "metadata": {},
     "source": [
      "Other well-known pythagorean connection comes from the harmonic ratio between the words \u0399\u03b7\u03c3\u03bf\u03c5\u03c2 \u03a7\u03c1\u03b9\u03c3\u03c4\u03bf\u03c2 which values are 888 and 1480. This can be simplified to a fraction 3/5. On the scriptures \u03ba\u03b5\u03c1\u03bc\u03b1\u03c4\u03b9\u03c3\u03c4\u03b7\u03c2 (money-broker) and \u03b1\u03bb\u03c5\u03c3\u03b9\u03c4\u03b5\u03bb\u03b7\u03c2 (gainless) has a value 1184, which reminds of the furious story of Jesus in the temple (John. 2:14-16). Similarly \n",
      "\n",
      "egnwkate, to \"know\" (absolutely)"
     ]
    },
    {
     "cell_type": "code",
     "collapsed": false,
     "input": [
      "# money-broker\n",
      "print_word('\u03ba\u03b5\u03c1\u03bc\u03b1\u03c4\u03b9\u03c3\u03c4\u03b7\u03c2')\n",
      "# gainless\n",
      "print_word('\u03b1\u03bb\u03c5\u03c3\u03b9\u03c4\u03b5\u03bb\u03b7\u03c2')\n",
      "# to \"know\" (absolutely)\n",
      "print_word('\u03b5\u03b3\u03bd\u03c9\u03ba\u03b1\u03c4\u03b5')"
     ],
     "language": "python",
     "metadata": {},
     "outputs": [
      {
       "output_type": "stream",
       "stream": "stdout",
       "text": [
        "1184 \u03ba\u03b5\u03c1\u03bc\u03b1\u03c4\u03b9\u03c3\u03c4\u03b7\u03c2 (kermatisths)\n",
        "1184 \u03b1\u03bb\u03c5\u03c3\u03b9\u03c4\u03b5\u03bb\u03b7\u03c2 (alusitelhs)\n",
        "1184 \u03b5\u03b3\u03bd\u03c9\u03ba\u03b1\u03c4\u03b5 (egnwkate)\n"
       ]
      }
     ],
     "prompt_number": 16
    },
    {
     "cell_type": "markdown",
     "metadata": {},
     "source": [
      "# Horizontal HTML table\n",
      "\n",
      "Other nice HTML representation of the characters, words and phrase summary is given by a print_char_table function. Output tries to combine all above table in the same one. This is useful especially for short phrases. But longer phrases are taking space in horizontal way and might not be as useful as char_table_data function. Also output is HTML data while char_table_data funciton gives Pandas DataFrame object that can be manipulated easier."
     ]
    },
    {
     "cell_type": "code",
     "collapsed": false,
     "input": [
      "import isopsephy\n",
      "isopsephy.print_char_table(phrase)"
     ],
     "language": "python",
     "metadata": {},
     "outputs": [
      {
       "html": [
        "<table class=\"char-table\"><caption>\u03ba\u03c5\u03c1\u03b9\u03bf\u03c3 \u0399\u03b7\u03c3\u03bf\u03c5\u03c2 \u03a7\u03c1\u03b9\u03c3\u03c4\u03bf\u03c2</caption><thead><tr><th>\u03ba</th><th>\u03c5</th><th>\u03c1</th><th>\u03b9</th><th>\u03bf</th><th>\u03c3</th><th>&nbsp;</th><th>&nbsp;</th><th>\u0399</th><th>\u03b7</th><th>\u03c3</th><th>\u03bf</th><th>\u03c5</th><th>\u03c2</th><th>&nbsp;</th><th>&nbsp;</th><th>\u03a7</th><th>\u03c1</th><th>\u03b9</th><th>\u03c3</th><th>\u03c4</th><th>\u03bf</th><th>\u03c2</th></tr></thead><tfoot><tr><td colspan=\"6\">800 <sub>8</sub></td><td/><td/><td colspan=\"6\">888 <sub>6</sub></td><td/><td/><td colspan=\"7\">1480 <sub>4</sub></td></tr><tr><td colspan=\"24\" style=\"border-top: solid 1px #ddd\">3168 <sub>18 / 9</sub></td></tr></tfoot><tbody><tr><td>k</td><td>u</td><td>r</td><td>i</td><td>o</td><td>s</td><td/><td class=\"empty-cell\"/><td>I</td><td>h</td><td>s</td><td>o</td><td>u</td><td>s</td><td/><td class=\"empty-cell\"/><td>X</td><td>r</td><td>i</td><td>s</td><td>t</td><td>o</td><td>s</td></tr><tr><td>20</td><td>400</td><td>100</td><td>10</td><td>70</td><td>200</td><td/><td class=\"empty-cell\"/><td>10</td><td>8</td><td>200</td><td>70</td><td>400</td><td>200</td><td/><td class=\"empty-cell\"/><td>600</td><td>100</td><td>10</td><td>200</td><td>300</td><td>70</td><td>200</td></tr></tbody></table>"
       ],
       "metadata": {},
       "output_type": "pyout",
       "prompt_number": 19,
       "text": [
        "<IPython.core.display.HTML at 0x102428e10>"
       ]
      }
     ],
     "prompt_number": 19
    },
    {
     "cell_type": "code",
     "collapsed": false,
     "input": [
      "from IPython.core.display import HTML\n",
      "from urllib import urlopen\n",
      "url = \"https://raw.githubusercontent.com/markomanninen/tagpy/master/runtests.css\"\n",
      "try:\n",
      "    css = urlopen(url).read().replace('table.data', 'table')\n",
      "except Exception:\n",
      "    css = ''\n",
      "HTML(\"\"\"\n",
      "<style type=\"text/css\">\n",
      "table tbody tr th:first-child {background-color: #777; padding: 0 10px}\n",
      "table.char-table thead tr th, \n",
      "table.char-table tbody tr td, \n",
      "table.char-table tfoot tr td {text-align: center;}\n",
      "table.char-table tbody tr td.empty-cell {border-left: 1px solid #aaa}\n",
      "%s\n",
      "</style>\n",
      "\"\"\" % css) "
     ],
     "language": "python",
     "metadata": {},
     "outputs": [
      {
       "html": [
        "\n",
        "<style type=\"text/css\">\n",
        "table tbody tr th:first-child {background-color: #777; padding: 0 10px}\n",
        "table.char-table thead tr th, \n",
        "table.char-table tbody tr td, \n",
        "table.char-table tfoot tr td {text-align: center;}\n",
        "table.char-table tbody tr td.empty-cell {border-left: 1px solid #aaa}\n",
        ".rendered_html table,\n",
        ".rendered_html tr,\n",
        ".rendered_html th,\n",
        ".rendered_html td {\n",
        "    border: 0\n",
        "}\n",
        "\n",
        "table {\n",
        "    color: black;\n",
        "    border: 0;\n",
        "\tmargin: 1.5em auto;\n",
        "\tborder-bottom: 1px solid #999;\n",
        "\tborder-collapse: collapse;\n",
        "\t-webkit-border-top-left-radius: 8px;\n",
        "\t-webkit-border-top-right-radius: 8px;\n",
        "\t-moz-border-radius: 8px 8px 0 0;\n",
        "\tborder-radius: 8px 8px 0 0;\n",
        "\tbackground: #444;\n",
        "}\n",
        "table caption {\n",
        "    margin-bottom: .75em;\n",
        "    text-align: center;\n",
        "\tfont-style: italic;\n",
        "}\n",
        "table td {\n",
        "\t-moz-transition: background 0.2s linear;\n",
        "\t-o-transition: background 0.2s linear;\n",
        "\ttransition: background 0.2s linear;\n",
        "\twhite-space: nowrap;\n",
        "\tborder-top: 1px solid #eee;\n",
        "\tborder-left: 1px solid #eee;\n",
        "\tpadding: 0.4em 0.8em;\n",
        "\tbackground: #fff;\n",
        "}\n",
        "table tfoot,\n",
        "table tbody {\n",
        "    outline-offset: -1px;\n",
        "    outline: 1px solid #ccc;\n",
        "}\n",
        "\n",
        "table thead {}\n",
        "table thead th {\n",
        "\tborder: none;\n",
        "    border-bottom: 2px solid #eee;\n",
        "\tbackground: transparent;\n",
        "\tcolor: #fff;\n",
        "\ttext-align: center;\n",
        "\tcursor: pointer;\n",
        "    padding: 0.4em 0.8em;\n",
        "}\n",
        "\n",
        "table tbody {}\n",
        "table tbody tr:hover td {\n",
        "\tbackground: #ffe;\n",
        "    color: black;\n",
        "}\n",
        "table tbody tr td:hover {\n",
        "\tbackground: #f5f6d2;\n",
        "}\n",
        "table tbody tr td:last-child {\n",
        "\ttext-align: center\n",
        "}\n",
        "\n",
        "table tbody tr th {\n",
        "\tcolor: white;\n",
        "    padding: 0.4em 0.8em;\n",
        "    text-transform: uppercase\n",
        "}\n",
        "\n",
        "\n",
        "table tfoot {}\n",
        "table tfoot td {\n",
        "    padding: 0.4em 0.8em;\n",
        "\ttext-align: center;\n",
        "\tfont-style: italic;\n",
        "}\n",
        "\n",
        "table .right {\n",
        "    text-align: right\n",
        "}\n",
        "\n",
        "table tr.ok td {background-color: white;}\n",
        "table tr.fail td {background-color: red; color: white}\n",
        "table tr.error td {background-color: lightpink}\n",
        "table tbody.failures {}\n",
        "table tbody.errors {}\n",
        "</style>\n"
       ],
       "metadata": {},
       "output_type": "pyout",
       "prompt_number": 18,
       "text": [
        "<IPython.core.display.HTML at 0x105803b90>"
       ]
      }
     ],
     "prompt_number": 18
    },
    {
     "cell_type": "markdown",
     "metadata": {},
     "source": [
      "# The MIT License (MIT)\n",
      "\n",
      "Copyright (c) 2014 Marko Manninen\n",
      "\n",
      "Permission is hereby granted, free of charge, to any person obtaining a copy\n",
      "of this software and associated documentation files (the \"Software\"), to deal\n",
      "in the Software without restriction, including without limitation the rights\n",
      "to use, copy, modify, merge, publish, distribute, sublicense, and/or sell\n",
      "copies of the Software, and to permit persons to whom the Software is\n",
      "furnished to do so, subject to the following conditions:\n",
      "\n",
      "The above copyright notice and this permission notice shall be included in all\n",
      "copies or substantial portions of the Software.\n",
      "\n",
      "THE SOFTWARE IS PROVIDED \"AS IS\", WITHOUT WARRANTY OF ANY KIND, EXPRESS OR\n",
      "IMPLIED, INCLUDING BUT NOT LIMITED TO THE WARRANTIES OF MERCHANTABILITY,\n",
      "FITNESS FOR A PARTICULAR PURPOSE AND NONINFRINGEMENT. IN NO EVENT SHALL THE\n",
      "AUTHORS OR COPYRIGHT HOLDERS BE LIABLE FOR ANY CLAIM, DAMAGES OR OTHER\n",
      "LIABILITY, WHETHER IN AN ACTION OF CONTRACT, TORT OR OTHERWISE, ARISING FROM,\n",
      "OUT OF OR IN CONNECTION WITH THE SOFTWARE OR THE USE OR OTHER DEALINGS IN THE\n",
      "SOFTWARE."
     ]
    }
   ],
   "metadata": {}
  }
 ]
}