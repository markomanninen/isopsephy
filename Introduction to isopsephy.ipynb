{
 "metadata": {
  "name": "",
  "signature": "sha256:83f74b741f5dc35e2c654aae5b424ff73867d587f52a3bc990885ab2267152e4"
 },
 "nbformat": 3,
 "nbformat_minor": 0,
 "worksheets": [
  {
   "cells": [
    {
     "cell_type": "markdown",
     "metadata": {},
     "source": [
      "# Introduction to isopsephy\n",
      "\n"
     ]
    },
    {
     "cell_type": "markdown",
     "metadata": {},
     "source": [
      "## History\n",
      "\n"
     ]
    },
    {
     "cell_type": "markdown",
     "metadata": {},
     "source": [
      "## Philosophy\n",
      "\n"
     ]
    },
    {
     "cell_type": "markdown",
     "metadata": {},
     "source": [
      "## Practice\n",
      "\n"
     ]
    },
    {
     "cell_type": "code",
     "collapsed": false,
     "input": [
      "import isopsephy"
     ],
     "language": "python",
     "metadata": {},
     "outputs": [],
     "prompt_number": 1
    },
    {
     "cell_type": "code",
     "collapsed": false,
     "input": [
      "isopsephy.char_table(\"\u03bf \u039b\u03bf\u03b3\u03bf\u03c2\")"
     ],
     "language": "python",
     "metadata": {},
     "outputs": [
      {
       "html": [
        "<table class=\"char-table\"><caption>\u03bf \u039b\u03bf\u03b3\u03bf\u03c2</caption><thead><tr><th>\u03bf</th><th>&nbsp;</th><th>&nbsp;</th><th>\u039b</th><th>\u03bf</th><th>\u03b3</th><th>\u03bf</th><th>\u03c2</th></tr></thead><tfoot><tr><td colspan=\"1\">70 <sub>7</sub></td><td/><td/><td colspan=\"5\">373 <sub>4</sub></td></tr><tr><td colspan=\"9\" style=\"border-top: solid 1px #ddd\">443 <sub>11 / 2</sub></td></tr></tfoot><tbody><tr><td>o</td><td/><td class=\"empty-cell\"/><td>L</td><td>o</td><td>g</td><td>o</td><td>s</td></tr><tr><td>70</td><td/><td class=\"empty-cell\"/><td>30</td><td>70</td><td>3</td><td>70</td><td>200</td></tr></tbody></table>"
       ],
       "metadata": {},
       "output_type": "pyout",
       "prompt_number": 2,
       "text": [
        "<remarkuple.table.table at 0xa692828>"
       ]
      }
     ],
     "prompt_number": 2
    },
    {
     "cell_type": "heading",
     "level": 2,
     "metadata": {},
     "source": [
      "Styles for document"
     ]
    },
    {
     "cell_type": "code",
     "collapsed": false,
     "input": [
      "from IPython.core.display import HTML\n",
      "with open('isopsephy.css') as f:\n",
      "    css = f.read()\n",
      "HTML('<style>%s</style>' % css)"
     ],
     "language": "python",
     "metadata": {},
     "outputs": [
      {
       "html": [
        "<style>/* notebook unstylings */\n",
        "\n",
        ".rendered_html table,\n",
        ".rendered_html tr,\n",
        ".rendered_html th,\n",
        ".rendered_html td {\n",
        "    border: 0\n",
        "}\n",
        "\n",
        "/* general table styles */\n",
        "\n",
        "table {\n",
        "    color: black;\n",
        "    border: 0;\n",
        "    margin: 1.5em auto;\n",
        "    border-bottom: 1px solid #999;\n",
        "    border-collapse: collapse;\n",
        "    -webkit-border-top-left-radius: 8px;\n",
        "    -webkit-border-top-right-radius: 8px;\n",
        "    -moz-border-radius: 8px 8px 0 0;\n",
        "    border-radius: 8px 8px 0 0;\n",
        "    background: #444;\n",
        "}\n",
        "table caption {\n",
        "    margin-bottom: .75em;\n",
        "    text-align: center;\n",
        "    font-style: italic;\n",
        "}\n",
        "table td {\n",
        "    -moz-transition: background 0.2s linear;\n",
        "    -o-transition: background 0.2s linear;\n",
        "    transition: background 0.2s linear;\n",
        "    white-space: nowrap;\n",
        "    border-top: 1px solid #eee;\n",
        "    border-left: 1px solid #eee;\n",
        "    padding: 0.4em 0.8em;\n",
        "    background: #fff;\n",
        "}\n",
        "table tfoot,\n",
        "table tbody {\n",
        "    outline-offset: -1px;\n",
        "    outline: 1px solid #ccc;\n",
        "}\n",
        "\n",
        "table thead {}\n",
        "table thead th {\n",
        "    border: none;\n",
        "    border-bottom: 2px solid #eee;\n",
        "    background: transparent;\n",
        "    color: #fff;\n",
        "    text-align: center;\n",
        "    cursor: pointer;\n",
        "    padding: 0.4em 0.8em;\n",
        "}\n",
        "\n",
        "table tbody {}\n",
        "table tbody tr:hover td {\n",
        "    background: #ffe;\n",
        "    color: black;\n",
        "}\n",
        "table tbody tr td:hover {\n",
        "    background: #f5f6d2;\n",
        "}\n",
        "table tbody tr td:last-child {\n",
        "    text-align: center\n",
        "}\n",
        "\n",
        "table tbody tr th {\n",
        "    color: white;\n",
        "    padding: 0.4em 0.8em;\n",
        "    text-transform: uppercase\n",
        "}\n",
        "\n",
        "\n",
        "table tfoot {}\n",
        "table tfoot td {\n",
        "    padding: 0.4em 0.8em;\n",
        "    text-align: center;\n",
        "    font-style: italic;\n",
        "}\n",
        "\n",
        "table .right {\n",
        "    text-align: right\n",
        "}\n",
        "\n",
        "table tr.ok td {background-color: white;}\n",
        "table tr.fail td {background-color: red; color: white}\n",
        "table tr.error td {background-color: lightpink}\n",
        "table tbody.failures {}\n",
        "table tbody.errors {}\n",
        "\n",
        "table tbody tr th:first-child {background-color: #777; padding: 0 10px}\n",
        "\n",
        "/* custom table styles */\n",
        "\n",
        "table.char-table thead tr th, \n",
        "table.char-table tbody tr td, \n",
        "table.char-table tfoot tr td {text-align: center;}\n",
        "table.char-table tbody tr td.empty-cell {border-left: 1px solid #aaa}</style>"
       ],
       "metadata": {},
       "output_type": "pyout",
       "prompt_number": 3,
       "text": [
        "<IPython.core.display.HTML at 0xa69b3c8>"
       ]
      }
     ],
     "prompt_number": 3
    },
    {
     "cell_type": "markdown",
     "metadata": {},
     "source": [
      "## The [MIT](http://choosealicense.com/licenses/mit/) License\n",
      "\n",
      "Copyright (c) 2014 Marko Manninen"
     ]
    }
   ],
   "metadata": {}
  }
 ]
}