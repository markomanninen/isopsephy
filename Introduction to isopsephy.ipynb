{
 "metadata": {
  "name": ""
 },
 "nbformat": 3,
 "nbformat_minor": 0,
 "worksheets": [
  {
   "cells": [
    {
     "cell_type": "markdown",
     "metadata": {},
     "source": [
      "# Introduction to isopsephy\n",
      "\n"
     ]
    },
    {
     "cell_type": "markdown",
     "metadata": {},
     "source": [
      "## History\n",
      "\n"
     ]
    },
    {
     "cell_type": "markdown",
     "metadata": {},
     "source": [
      "## Philosophy\n",
      "\n"
     ]
    },
    {
     "cell_type": "markdown",
     "metadata": {},
     "source": [
      "## Practice\n",
      "\n"
     ]
    },
    {
     "cell_type": "code",
     "collapsed": false,
     "input": [
      "import isopsephy"
     ],
     "language": "python",
     "metadata": {},
     "outputs": [],
     "prompt_number": 1
    },
    {
     "cell_type": "code",
     "collapsed": false,
     "input": [
      "isopsephy.print_char_table(\"\u03bf \u039b\u03bf\u03b3\u03bf\u03c2\")"
     ],
     "language": "python",
     "metadata": {},
     "outputs": [
      {
       "html": [
        "<table class=\"char-table\"><caption>\u03bf \u039b\u03bf\u03b3\u03bf\u03c3</caption><thead><tr><th>o</th><th>&nbsp;</th><th>&nbsp;</th><th>L</th><th>o</th><th>g</th><th>o</th><th>s</th></tr></thead><tfoot><tr><td colspan=\"1\">70 <sub>7</sub></td><td/><td/><td colspan=\"5\">373 <sub>4</sub></td></tr><tr><td colspan=\"9\" style=\"border-top: solid 1px #ddd\">443 <sub>11 / 2</sub></td></tr></tfoot><tbody><tr><td>\u03bf</td><td/><td class=\"empty-cell\"/><td>\u039b</td><td>\u03bf</td><td>\u03b3</td><td>\u03bf</td><td>\u03c3</td></tr><tr><td>70</td><td/><td class=\"empty-cell\"/><td>30</td><td>70</td><td>3</td><td>70</td><td>200</td></tr></tbody></table>"
       ],
       "metadata": {},
       "output_type": "pyout",
       "prompt_number": 2,
       "text": [
        "<IPython.core.display.HTML at 0x10257a450>"
       ]
      }
     ],
     "prompt_number": 2
    },
    {
     "cell_type": "heading",
     "level": 2,
     "metadata": {},
     "source": [
      "Styles for document"
     ]
    },
    {
     "cell_type": "code",
     "collapsed": false,
     "input": [
      "from IPython.core.display import HTML\n",
      "from urllib import urlopen\n",
      "url = \"https://raw.githubusercontent.com/markomanninen/tagpy/master/runtests.css\"\n",
      "try:\n",
      "    css = urlopen(url).read().replace('table.data', 'table')\n",
      "except Exception:\n",
      "    css = ''\n",
      "HTML(\"\"\"\n",
      "<style>\n",
      "table tbody tr th:first-child {background-color: #777; padding: 0 10px}\n",
      "table.char-table thead tr th, \n",
      "table.char-table tbody tr td, \n",
      "table.char-table tfoot tr td {text-align: center;}\n",
      "table.char-table tbody tr td.empty-cell {border-left: 1px solid #aaa}\n",
      "%s\n",
      "</style>\n",
      "\"\"\" % css)"
     ],
     "language": "python",
     "metadata": {},
     "outputs": [
      {
       "html": [
        "\n",
        "<style>\n",
        "table tbody tr th:first-child {background-color: #777; padding: 0 10px}\n",
        "table.char-table thead tr th, \n",
        "table.char-table tbody tr td, \n",
        "table.char-table tfoot tr td {text-align: center;}\n",
        "table.char-table tbody tr td.empty-cell {border-left: 1px solid #aaa}\n",
        ".rendered_html table,\n",
        ".rendered_html tr,\n",
        ".rendered_html th,\n",
        ".rendered_html td {\n",
        "    border: 0\n",
        "}\n",
        "\n",
        "table {\n",
        "    color: black;\n",
        "    border: 0;\n",
        "\tmargin: 1.5em auto;\n",
        "\tborder-bottom: 1px solid #999;\n",
        "\tborder-collapse: collapse;\n",
        "\t-webkit-border-top-left-radius: 8px;\n",
        "\t-webkit-border-top-right-radius: 8px;\n",
        "\t-moz-border-radius: 8px 8px 0 0;\n",
        "\tborder-radius: 8px 8px 0 0;\n",
        "\tbackground: #444;\n",
        "}\n",
        "table caption {\n",
        "    margin-bottom: .75em;\n",
        "    text-align: center;\n",
        "\tfont-style: italic;\n",
        "}\n",
        "table td {\n",
        "\t-moz-transition: background 0.2s linear;\n",
        "\t-o-transition: background 0.2s linear;\n",
        "\ttransition: background 0.2s linear;\n",
        "\twhite-space: nowrap;\n",
        "\tborder-top: 1px solid #eee;\n",
        "\tborder-left: 1px solid #eee;\n",
        "\tpadding: 0.4em 0.8em;\n",
        "\tbackground: #fff;\n",
        "}\n",
        "table tfoot,\n",
        "table tbody {\n",
        "    outline-offset: -1px;\n",
        "    outline: 1px solid #ccc;\n",
        "}\n",
        "\n",
        "table thead {}\n",
        "table thead th {\n",
        "\tborder: none;\n",
        "    border-bottom: 2px solid #eee;\n",
        "\tbackground: transparent;\n",
        "\tcolor: #fff;\n",
        "\ttext-align: center;\n",
        "\tcursor: pointer;\n",
        "    padding: 0.4em 0.8em;\n",
        "}\n",
        "\n",
        "table tbody {}\n",
        "table tbody tr:hover td {\n",
        "\tbackground: #ffe;\n",
        "    color: black;\n",
        "}\n",
        "table tbody tr td:hover {\n",
        "\tbackground: #f5f6d2;\n",
        "}\n",
        "table tbody tr td:last-child {\n",
        "\ttext-align: center\n",
        "}\n",
        "\n",
        "table tbody tr th {\n",
        "\tcolor: white;\n",
        "    padding: 0.4em 0.8em;\n",
        "    text-transform: uppercase\n",
        "}\n",
        "\n",
        "\n",
        "table tfoot {}\n",
        "table tfoot td {\n",
        "    padding: 0.4em 0.8em;\n",
        "\ttext-align: center;\n",
        "\tfont-style: italic;\n",
        "}\n",
        "\n",
        "table .right {\n",
        "    text-align: right\n",
        "}\n",
        "\n",
        "table tr.ok td {background-color: white;}\n",
        "table tr.fail td {background-color: red; color: white}\n",
        "table tr.error td {background-color: lightpink}\n",
        "table tbody.failures {}\n",
        "table tbody.errors {}\n",
        "</style>\n"
       ],
       "metadata": {},
       "output_type": "pyout",
       "prompt_number": 3,
       "text": [
        "<IPython.core.display.HTML at 0x1057fe950>"
       ]
      }
     ],
     "prompt_number": 3
    },
    {
     "cell_type": "markdown",
     "metadata": {},
     "source": [
      "# The MIT License (MIT)\n",
      "\n",
      "Copyright (c) 2014 Marko Manninen\n",
      "\n",
      "Permission is hereby granted, free of charge, to any person obtaining a copy\n",
      "of this software and associated documentation files (the \"Software\"), to deal\n",
      "in the Software without restriction, including without limitation the rights\n",
      "to use, copy, modify, merge, publish, distribute, sublicense, and/or sell\n",
      "copies of the Software, and to permit persons to whom the Software is\n",
      "furnished to do so, subject to the following conditions:\n",
      "\n",
      "The above copyright notice and this permission notice shall be included in all\n",
      "copies or substantial portions of the Software.\n",
      "\n",
      "THE SOFTWARE IS PROVIDED \"AS IS\", WITHOUT WARRANTY OF ANY KIND, EXPRESS OR\n",
      "IMPLIED, INCLUDING BUT NOT LIMITED TO THE WARRANTIES OF MERCHANTABILITY,\n",
      "FITNESS FOR A PARTICULAR PURPOSE AND NONINFRINGEMENT. IN NO EVENT SHALL THE\n",
      "AUTHORS OR COPYRIGHT HOLDERS BE LIABLE FOR ANY CLAIM, DAMAGES OR OTHER\n",
      "LIABILITY, WHETHER IN AN ACTION OF CONTRACT, TORT OR OTHERWISE, ARISING FROM,\n",
      "OUT OF OR IN CONNECTION WITH THE SOFTWARE OR THE USE OR OTHER DEALINGS IN THE\n",
      "SOFTWARE."
     ]
    }
   ],
   "metadata": {}
  }
 ]
}